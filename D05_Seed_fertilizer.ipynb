{
 "cells": [
  {
   "cell_type": "markdown",
   "id": "a12337c5-a18f-4cec-8079-288bb7d68448",
   "metadata": {},
   "source": [
    "# Advent of Code - D05: If You Give A Seed A Fertilizer\n",
    "\n",
    "@author: Camillo Moschner"
   ]
  },
  {
   "cell_type": "markdown",
   "id": "0b6316ab-2de6-4184-8b97-79fc0b88be78",
   "metadata": {},
   "source": [
    "# Import Staments"
   ]
  },
  {
   "cell_type": "code",
   "execution_count": 1,
   "id": "c05ff3b6-14b5-4814-9bad-c597ddfb8a6b",
   "metadata": {
    "tags": []
   },
   "outputs": [],
   "source": [
    "import re\n",
    "from tqdm.notebook import tqdm"
   ]
  },
  {
   "cell_type": "markdown",
   "id": "53f4904f-2695-40b3-ba49-1738b1c2699c",
   "metadata": {},
   "source": [
    "# Solve Part 1"
   ]
  },
  {
   "cell_type": "markdown",
   "id": "5fea7ba5-4e48-480f-8836-1ffd228609b7",
   "metadata": {
    "tags": []
   },
   "source": [
    "## Load Data"
   ]
  },
  {
   "cell_type": "code",
   "execution_count": 2,
   "id": "09357307-7209-43d1-8836-2b271fd71528",
   "metadata": {
    "tags": []
   },
   "outputs": [],
   "source": [
    "test_data =\"\"\"seeds: 79 14 55 13\n",
    "\n",
    "seed-to-soil map:\n",
    "50 98 2\n",
    "52 50 48\n",
    "\n",
    "soil-to-fertilizer map:\n",
    "0 15 37\n",
    "37 52 2\n",
    "39 0 15\n",
    "\n",
    "fertilizer-to-water map:\n",
    "49 53 8\n",
    "0 11 42\n",
    "42 0 7\n",
    "57 7 4\n",
    "\n",
    "water-to-light map:\n",
    "88 18 7\n",
    "18 25 70\n",
    "\n",
    "light-to-temperature map:\n",
    "45 77 23\n",
    "81 45 19\n",
    "68 64 13\n",
    "\n",
    "temperature-to-humidity map:\n",
    "0 69 1\n",
    "1 0 69\n",
    "\n",
    "humidity-to-location map:\n",
    "60 56 37\n",
    "56 93 4\n",
    "\"\"\""
   ]
  },
  {
   "cell_type": "code",
   "execution_count": 3,
   "id": "a38b887c-7d7c-4ece-9557-ea65fc950abf",
   "metadata": {
    "tags": []
   },
   "outputs": [],
   "source": [
    "with open('D05ab_input.txt', 'r') as file:\n",
    "    puzzle_input_BOTH = file.read()"
   ]
  },
  {
   "cell_type": "code",
   "execution_count": 4,
   "id": "83699466-2447-4c07-bc7a-2e59b563f26d",
   "metadata": {
    "tags": []
   },
   "outputs": [],
   "source": [
    "def map_to_next_category(input_no_list: list, map_line_list: list) -> list:\n",
    "    \"\"\" Using a hashmap -> time complexity = Linear Time - O(n) ==> doesn't scale well, large input ranges will crash normal computers\n",
    "    \"\"\"\n",
    "    current_dict = {}\n",
    "    for line in [[int(seed_id) for seed_id in re.findall(r'\\d+', line)] for line in map_line_list]:\n",
    "        dest, source, rang = line\n",
    "        source_range = list(range(source, source+rang,1))\n",
    "        dest_range = list(range(dest, dest+rang))\n",
    "        # Generate mapping dictionary\n",
    "        for idx, x in enumerate(source_range):\n",
    "            current_dict[x] = dest_range[idx]\n",
    "    # print(current_dict)\n",
    "    return [current_dict.get(val, val) for val in input_no_list]"
   ]
  },
  {
   "cell_type": "markdown",
   "id": "c5fd6379-b2b1-4c37-b9df-b3bd9871858d",
   "metadata": {
    "tags": []
   },
   "source": [
    "## Binary search approach\n",
    "Linear Time - O(log n)"
   ]
  },
  {
   "cell_type": "code",
   "execution_count": 5,
   "id": "ba4d37b7-ee2c-420e-894d-9357e096b41a",
   "metadata": {
    "tags": []
   },
   "outputs": [],
   "source": [
    "def binary_search_for_index(start: int, end: int, target: int) -> int:\n",
    "    left = 0\n",
    "    right = end - start  # Total number of elements assuming step size of 1\n",
    "\n",
    "    while left <= right:\n",
    "        mid = (left + right) // 2\n",
    "        mid_value = start + mid  # Calculate the value at this hypothetical index\n",
    "\n",
    "        if mid_value == target:\n",
    "            return mid  # Target value's index found\n",
    "        elif mid_value < target:\n",
    "            left = mid + 1\n",
    "        else:\n",
    "            right = mid - 1\n",
    "    return -1  # Target not found"
   ]
  },
  {
   "cell_type": "code",
   "execution_count": 6,
   "id": "040be5ea-96c9-4376-9081-0098e891fc81",
   "metadata": {
    "tags": []
   },
   "outputs": [
    {
     "data": {
      "text/plain": [
       "-1"
      ]
     },
     "execution_count": 6,
     "metadata": {},
     "output_type": "execute_result"
    }
   ],
   "source": [
    "binary_search_for_index(0, 11, 53)"
   ]
  },
  {
   "cell_type": "code",
   "execution_count": 7,
   "id": "41589211-e9c5-4f54-97d5-aec8d48e8e71",
   "metadata": {
    "tags": []
   },
   "outputs": [],
   "source": [
    "def map_to_next_category_wo_memory_allocation(input_no_list: list, map_line_list: list) -> list:\n",
    "    \"\"\"\n",
    "    \"\"\"\n",
    "    results = []\n",
    "    for input_no in input_no_list:\n",
    "        # print(input_no)\n",
    "        input_no_results = []\n",
    "        for line in [[int(seed_id) for seed_id in re.findall(r'\\d+', line)] for line in map_line_list]:\n",
    "            dest_start, source_start, rang = line\n",
    "            source_end, dest_end = source_start+rang+1, dest_start+rang+1\n",
    "            # CRUX: identify mapping index across both ranges\n",
    "            cross_category_idx = binary_search_for_index(source_start, source_end, input_no)\n",
    "            # print(f\"{input_no}, source={source_start}->{source_end}, dest={dest_start}->{dest_end}, idx={cross_category_idx}\")\n",
    "            input_no_results.append(cross_category_idx)\n",
    "            if cross_category_idx != -1:\n",
    "                next_cat_val = range(dest_start,dest_end)[cross_category_idx]\n",
    "                break\n",
    "        if all([x==-1 for x in input_no_results]):\n",
    "            results.append(input_no)\n",
    "        else:\n",
    "            results.append(next_cat_val)\n",
    "\n",
    "    return results"
   ]
  },
  {
   "cell_type": "code",
   "execution_count": 8,
   "id": "7d7c6ec0-5b23-4e07-85b6-27f30e80585f",
   "metadata": {
    "tags": []
   },
   "outputs": [
    {
     "data": {
      "text/plain": [
       "[81, 49, 53, 41]"
      ]
     },
     "execution_count": 8,
     "metadata": {},
     "output_type": "execute_result"
    }
   ],
   "source": [
    "map_to_next_category_wo_memory_allocation( [81, 53, 57, 52], ['49 53 8','0 11 42','42 0 7','57 7 4'])"
   ]
  },
  {
   "cell_type": "code",
   "execution_count": 9,
   "id": "4e11fe34-eed3-40ef-946a-3cbc0ae161ca",
   "metadata": {
    "tags": []
   },
   "outputs": [],
   "source": [
    "def process_information_through_maps(input_str: str) -> int:\n",
    "    # Read data input\n",
    "    number_conversion_list = [int(seed_id) for seed_id in re.findall(r'\\d+', [map_item for map_item in input_str.split('\\n\\n')][0].split(': ')[-1])]\n",
    "    almanac = [[map_item.split(':')[0],map_item.split(':\\n')[1].splitlines()] for map_item in [map_item for map_item in input_str.split('\\n\\n')][1:]]\n",
    "    # Read maps and sequentially convert category to category\n",
    "    print(f\"Starting with seeds {number_conversion_list}\\n\")\n",
    "    for idx, current_map in enumerate(almanac[:]):\n",
    "        print(current_map[0])\n",
    "        \n",
    "        number_conversion_list = map_to_next_category_wo_memory_allocation(number_conversion_list, current_map[-1])\n",
    "        # print(f\" {idx} - {current_map[0].split(' ')[0].split('-')[-1]} numbers = {number_conversion_list}\\n\")\n",
    "    return f\"Lowest location number = {min(number_conversion_list)}\""
   ]
  },
  {
   "cell_type": "code",
   "execution_count": 10,
   "id": "eed78733-55df-48c9-aefc-694808683086",
   "metadata": {
    "tags": []
   },
   "outputs": [
    {
     "name": "stdout",
     "output_type": "stream",
     "text": [
      "Starting with seeds [79, 14, 55, 13]\n",
      "\n",
      "seed-to-soil map\n",
      "soil-to-fertilizer map\n",
      "fertilizer-to-water map\n",
      "water-to-light map\n",
      "light-to-temperature map\n",
      "temperature-to-humidity map\n",
      "humidity-to-location map\n",
      "CPU times: user 419 µs, sys: 50 µs, total: 469 µs\n",
      "Wall time: 448 µs\n"
     ]
    },
    {
     "data": {
      "text/plain": [
       "'Lowest location number = 35'"
      ]
     },
     "execution_count": 10,
     "metadata": {},
     "output_type": "execute_result"
    }
   ],
   "source": [
    "%%time \n",
    "process_information_through_maps(test_data)"
   ]
  },
  {
   "cell_type": "code",
   "execution_count": 11,
   "id": "4b459517-f9ce-4736-8d7a-d77e62d545e5",
   "metadata": {
    "tags": []
   },
   "outputs": [
    {
     "name": "stdout",
     "output_type": "stream",
     "text": [
      "Starting with seeds [202517468, 131640971, 1553776977, 241828580, 1435322022, 100369067, 2019100043, 153706556, 460203450, 84630899, 3766866638, 114261107, 1809826083, 153144153, 2797169753, 177517156, 2494032210, 235157184, 856311572, 542740109]\n",
      "\n",
      "seed-to-soil map\n",
      "soil-to-fertilizer map\n",
      "fertilizer-to-water map\n",
      "water-to-light map\n",
      "light-to-temperature map\n",
      "temperature-to-humidity map\n",
      "humidity-to-location map\n",
      "CPU times: user 5.67 ms, sys: 1.11 ms, total: 6.78 ms\n",
      "Wall time: 7.13 ms\n"
     ]
    },
    {
     "data": {
      "text/plain": [
       "'Lowest location number = 318728750'"
      ]
     },
     "execution_count": 11,
     "metadata": {},
     "output_type": "execute_result"
    }
   ],
   "source": [
    "%%time \n",
    "process_information_through_maps(puzzle_input_BOTH)"
   ]
  },
  {
   "cell_type": "code",
   "execution_count": null,
   "id": "3ecb45c5-5a63-49f3-8338-0f77225f567d",
   "metadata": {},
   "outputs": [],
   "source": []
  },
  {
   "cell_type": "markdown",
   "id": "ee46fc4d-7348-480e-a8bc-44c8f6718448",
   "metadata": {},
   "source": [
    "# Solve Part 2"
   ]
  },
  {
   "cell_type": "markdown",
   "id": "69a9fccb-687b-4df4-8e0d-c21c1c021b8f",
   "metadata": {
    "tags": []
   },
   "source": [
    "## Load Data"
   ]
  },
  {
   "cell_type": "code",
   "execution_count": 7,
   "id": "40a257ce-3eff-46f0-bd79-60ba91b3ad58",
   "metadata": {
    "tags": []
   },
   "outputs": [],
   "source": [
    "from copy import deepcopy"
   ]
  },
  {
   "cell_type": "code",
   "execution_count": 8,
   "id": "2fce1787-c9a3-4cb9-b89b-7bd4babd31d9",
   "metadata": {
    "tags": []
   },
   "outputs": [],
   "source": [
    "test_data =\"\"\"Card 1: 41 48 83 86 17 | 83 86  6 31 17  9 48 53\n",
    "Card 2: 13 32 20 16 61 | 61 30 68 82 17 32 24 19\n",
    "Card 3:  1 21 53 59 44 | 69 82 63 72 16 21 14  1\n",
    "Card 4: 41 92 73 84 69 | 59 84 76 51 58  5 54 83\n",
    "Card 5: 87 83 26 28 32 | 88 30 70 12 93 22 82 36\n",
    "Card 6: 31 18 13 56 72 | 74 77 10 23 35 67 36 11\n",
    "\"\"\""
   ]
  },
  {
   "cell_type": "code",
   "execution_count": 9,
   "id": "bf493fa2-6f6d-475c-a1c8-9f28a23c69b8",
   "metadata": {
    "tags": []
   },
   "outputs": [],
   "source": [
    "import numpy as np"
   ]
  },
  {
   "cell_type": "code",
   "execution_count": 10,
   "id": "f27f9f53-127f-4c7f-a5bd-5f1b3e5e500b",
   "metadata": {
    "tags": []
   },
   "outputs": [],
   "source": [
    "def calculate_match_numbers(scratch_card_text_input: str) -> int:\n",
    "    \"\"\"\n",
    "    \"\"\"\n",
    "    data_prepocess = [numbers.split('|') for numbers in [card.split(': ')[-1] for card in scratch_card_text_input.splitlines()]]\n",
    "    match_count = []\n",
    "    for card in data_prepocess:\n",
    "        winning_numbers, numbers_owned = set([int(numb) for numb in re.findall(r'\\d+', card[0])]), set([int(numb) for numb in re.findall(r'\\d+', card[-1])])\n",
    "        no_matches = len(winning_numbers & numbers_owned)\n",
    "        match_count.append(no_matches)\n",
    "    return match_count"
   ]
  },
  {
   "cell_type": "code",
   "execution_count": 11,
   "id": "7d9de780-b378-4b9a-9525-a125241ded8b",
   "metadata": {
    "tags": []
   },
   "outputs": [],
   "source": [
    "def calculate_recursive_winning_number(input_data_str: str) -> int:\n",
    "    matches_per_game_list = [[x] for x in calculate_match_numbers(input_data_str)]\n",
    "    copy_tracker = np.ones(len(matches_per_game_list))\n",
    "\n",
    "    for idx in range(len(matches_per_game_list)):\n",
    "        matches_no = matches_per_game_list[idx]\n",
    "        # print(idx+1, matches_per_game_list)\n",
    "        # original\n",
    "        for addition in matches_no:\n",
    "            for counter in range(1, matches_no[0]+1):\n",
    "                # print(f\" idx-{idx} -> addcopyto:{idx+counter+1}\")\n",
    "                matches_per_game_list[idx+counter].append(matches_per_game_list[idx+counter][0])\n",
    "                copy_tracker[idx+counter] += 1\n",
    "    return copy_tracker.sum()"
   ]
  },
  {
   "cell_type": "code",
   "execution_count": 12,
   "id": "010b4ee7-afca-4ec6-bbdb-b1934c6649d0",
   "metadata": {
    "tags": []
   },
   "outputs": [],
   "source": [
    "calculate_recursive_winning_number(test_data)"
   ]
  },
  {
   "cell_type": "code",
   "execution_count": 13,
   "id": "5a1e552d-815e-4c6d-af1b-0578107ef896",
   "metadata": {
    "tags": []
   },
   "outputs": [],
   "source": [
    "%%time\n",
    "calculate_recursive_winning_number(puzzle_input_BOTH)"
   ]
  },
  {
   "cell_type": "code",
   "execution_count": null,
   "id": "d5e41ca3-c033-4641-84dd-67238a1699a8",
   "metadata": {},
   "outputs": [],
   "source": []
  }
 ],
 "metadata": {
  "kernelspec": {
   "display_name": "Python 3 (ipykernel)",
   "language": "python",
   "name": "python3"
  },
  "language_info": {
   "codemirror_mode": {
    "name": "ipython",
    "version": 3
   },
   "file_extension": ".py",
   "mimetype": "text/x-python",
   "name": "python",
   "nbconvert_exporter": "python",
   "pygments_lexer": "ipython3",
   "version": "3.11.5"
  }
 },
 "nbformat": 4,
 "nbformat_minor": 5
}
