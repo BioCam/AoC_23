{
 "cells": [
  {
   "cell_type": "markdown",
   "id": "a12337c5-a18f-4cec-8079-288bb7d68448",
   "metadata": {},
   "source": [
    "# Advent of Code - D01: Trebuchet?!\n",
    "\n",
    "@author: Camillo Moschner"
   ]
  },
  {
   "cell_type": "markdown",
   "id": "0b6316ab-2de6-4184-8b97-79fc0b88be78",
   "metadata": {},
   "source": [
    "# Import Staments"
   ]
  },
  {
   "cell_type": "code",
   "execution_count": 1,
   "id": "c05ff3b6-14b5-4814-9bad-c597ddfb8a6b",
   "metadata": {
    "tags": []
   },
   "outputs": [],
   "source": [
    "import re"
   ]
  },
  {
   "cell_type": "markdown",
   "id": "53f4904f-2695-40b3-ba49-1738b1c2699c",
   "metadata": {},
   "source": [
    "# Solve Challenge 1"
   ]
  },
  {
   "cell_type": "markdown",
   "id": "5fea7ba5-4e48-480f-8836-1ffd228609b7",
   "metadata": {
    "tags": []
   },
   "source": [
    "## Load Data"
   ]
  },
  {
   "cell_type": "code",
   "execution_count": 2,
   "id": "09357307-7209-43d1-8836-2b271fd71528",
   "metadata": {
    "tags": []
   },
   "outputs": [],
   "source": [
    "test_data =\"\"\"Game 1: 3 blue, 4 red; 1 red, 2 green, 6 blue; 2 green\n",
    "Game 2: 1 blue, 2 green; 3 green, 4 blue, 1 red; 1 green, 1 blue\n",
    "Game 3: 8 green, 6 blue, 20 red; 5 blue, 4 red, 13 green; 5 green, 1 red\n",
    "Game 4: 1 green, 3 red, 6 blue; 3 green, 6 red; 3 green, 15 blue, 14 red\n",
    "Game 5: 6 red, 1 blue, 3 green; 2 blue, 1 red, 2 green\n",
    "\"\"\""
   ]
  },
  {
   "cell_type": "code",
   "execution_count": 3,
   "id": "a38b887c-7d7c-4ece-9557-ea65fc950abf",
   "metadata": {
    "tags": []
   },
   "outputs": [],
   "source": [
    "with open('D02a_input.txt', 'r') as file:\n",
    "    puzzle_input_ONE = file.read()"
   ]
  },
  {
   "cell_type": "code",
   "execution_count": 4,
   "id": "94d03e48-7415-4b0b-a6b3-8173fdc8415f",
   "metadata": {
    "tags": []
   },
   "outputs": [],
   "source": [
    "def decrypt_calibration_document(text_file: str) -> int:\n",
    "    return sum([int(re.findall(r'\\d', line)[0]+re.findall(r'\\d', line)[-1]) for line in text_file.splitlines()])"
   ]
  },
  {
   "cell_type": "code",
   "execution_count": 5,
   "id": "e6085e73-ba96-42cb-b579-6fda7efe006f",
   "metadata": {
    "tags": []
   },
   "outputs": [
    {
     "data": {
      "text/plain": [
       "142"
      ]
     },
     "execution_count": 5,
     "metadata": {},
     "output_type": "execute_result"
    }
   ],
   "source": [
    "decrypt_calibration_document(test_data)"
   ]
  },
  {
   "cell_type": "code",
   "execution_count": 6,
   "id": "80c65523-0ca3-4f91-8edf-bc4c820ecc53",
   "metadata": {
    "tags": []
   },
   "outputs": [
    {
     "name": "stdout",
     "output_type": "stream",
     "text": [
      "CPU times: user 783 µs, sys: 308 µs, total: 1.09 ms\n",
      "Wall time: 1.14 ms\n"
     ]
    },
    {
     "data": {
      "text/plain": [
       "55538"
      ]
     },
     "execution_count": 6,
     "metadata": {},
     "output_type": "execute_result"
    }
   ],
   "source": [
    "%%time\n",
    "decrypt_calibration_document(puzzle_input_BOTH)"
   ]
  },
  {
   "cell_type": "markdown",
   "id": "ee46fc4d-7348-480e-a8bc-44c8f6718448",
   "metadata": {},
   "source": [
    "# Solve Challenge 2"
   ]
  },
  {
   "cell_type": "markdown",
   "id": "69a9fccb-687b-4df4-8e0d-c21c1c021b8f",
   "metadata": {
    "tags": []
   },
   "source": [
    "## Load Data"
   ]
  },
  {
   "cell_type": "code",
   "execution_count": 15,
   "id": "6bc2c595-c6b6-4383-9831-075f2c14ed55",
   "metadata": {
    "tags": []
   },
   "outputs": [],
   "source": [
    "test_data =\"\"\"two1nine\n",
    "eightwothree\n",
    "abcone2threexyz\n",
    "xtwone3four\n",
    "4nineeightseven2\n",
    "zoneight234\n",
    "7pqrstsixteen\n",
    "\"\"\""
   ]
  },
  {
   "cell_type": "code",
   "execution_count": 44,
   "id": "f85fe8a3-a226-44ea-88d5-88f90cc37dec",
   "metadata": {
    "tags": []
   },
   "outputs": [],
   "source": [
    "def advanced_decrypt_calibration_document(text_file: str) -> int:\n",
    "    str_to_no_dict = {'one': '1', 'two': '2', 'three': '3', 'four': '4', 'five': '5', 'six': '6', 'seven': '7', 'eight': '8', 'nine': '9'} \n",
    "    # Write Regex with positive lookaheads (?=...), i.e. non-consuming matches in regular expressions\n",
    "    regex = f'(?=(\\d|one|two|three|four|five|six|seven|eight|nine))'\n",
    "    # Finding all matches, including overlaps\n",
    "    identified_matches_per_row = [[match.group(1) for match in re.finditer(regex, line)] for line in text_file.splitlines()]\n",
    "    # print(identified_hits_per_row)\n",
    "    # for idx, number in enumerate([int(str_to_no_dict.get(hits_list[0], hits_list[0])+str_to_no_dict.get(hits_list[-1], hits_list[-1])) for hits_list in identified_hits_per_row]):\n",
    "    #     print(f\"{identified_hits_per_row[idx]}\\n{number}\\n\")\n",
    "    return sum([int(str_to_no_dict.get(matches_list[0], matches_list[0])+str_to_no_dict.get(matches_list[-1], matches_list[-1])) for matches_list in identified_matches_per_row])"
   ]
  },
  {
   "cell_type": "code",
   "execution_count": 45,
   "id": "a1484823-2de3-45da-9123-c91e888112dc",
   "metadata": {
    "tags": []
   },
   "outputs": [
    {
     "data": {
      "text/plain": [
       "281"
      ]
     },
     "execution_count": 45,
     "metadata": {},
     "output_type": "execute_result"
    }
   ],
   "source": [
    "advanced_decrypt_calibration_document(test_data)"
   ]
  },
  {
   "cell_type": "code",
   "execution_count": 46,
   "id": "92b871ab-e4ae-4c24-8282-5e39a67c189f",
   "metadata": {
    "tags": []
   },
   "outputs": [
    {
     "name": "stdout",
     "output_type": "stream",
     "text": [
      "CPU times: user 2.17 ms, sys: 0 ns, total: 2.17 ms\n",
      "Wall time: 2.35 ms\n"
     ]
    },
    {
     "data": {
      "text/plain": [
       "54875"
      ]
     },
     "execution_count": 46,
     "metadata": {},
     "output_type": "execute_result"
    }
   ],
   "source": [
    "%%time\n",
    "advanced_decrypt_calibration_document(puzzle_input_BOTH)"
   ]
  },
  {
   "cell_type": "code",
   "execution_count": 43,
   "id": "455fbe3e-0c05-462e-b31a-09c034d3bca6",
   "metadata": {
    "tags": []
   },
   "outputs": [
    {
     "name": "stdout",
     "output_type": "stream",
     "text": [
      "['one', 'eight']\n"
     ]
    }
   ],
   "source": [
    "import re\n",
    "\n",
    "# The words to match\n",
    "words = [\"one\", \"eight\", \"word3\", \"word4\", \"word5\"]\n",
    "\n",
    "# Creating the regular expression pattern\n",
    "pattern = '|'.join(words)\n",
    "regex = f'(?=(\\d|one|two|three|four|five|six|seven|eight|nine))'\n",
    "\n",
    "# Sample text\n",
    "text = \"This is a oneight sample text with word1 and word2 overlapping word1word2\"\n",
    "\n",
    "# Finding all matches, including overlaps\n",
    "matches = [match.group(1) for match in re.finditer(regex, text)]\n",
    "\n",
    "print(matches)\n"
   ]
  },
  {
   "cell_type": "code",
   "execution_count": null,
   "id": "1fad196f-e485-4934-bb6c-7d6592a3f6de",
   "metadata": {},
   "outputs": [],
   "source": []
  }
 ],
 "metadata": {
  "kernelspec": {
   "display_name": "Python 3 (ipykernel)",
   "language": "python",
   "name": "python3"
  },
  "language_info": {
   "codemirror_mode": {
    "name": "ipython",
    "version": 3
   },
   "file_extension": ".py",
   "mimetype": "text/x-python",
   "name": "python",
   "nbconvert_exporter": "python",
   "pygments_lexer": "ipython3",
   "version": "3.11.5"
  }
 },
 "nbformat": 4,
 "nbformat_minor": 5
}
