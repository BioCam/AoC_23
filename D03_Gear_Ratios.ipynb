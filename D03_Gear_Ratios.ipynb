{
 "cells": [
  {
   "cell_type": "markdown",
   "id": "a12337c5-a18f-4cec-8079-288bb7d68448",
   "metadata": {},
   "source": [
    "# Advent of Code - D03: Gear Ratios\n",
    "\n",
    "@author: Camillo Moschner"
   ]
  },
  {
   "cell_type": "markdown",
   "id": "0b6316ab-2de6-4184-8b97-79fc0b88be78",
   "metadata": {},
   "source": [
    "# Import Staments"
   ]
  },
  {
   "cell_type": "code",
   "execution_count": 1,
   "id": "c05ff3b6-14b5-4814-9bad-c597ddfb8a6b",
   "metadata": {
    "tags": []
   },
   "outputs": [],
   "source": []
  },
  {
   "cell_type": "markdown",
   "id": "53f4904f-2695-40b3-ba49-1738b1c2699c",
   "metadata": {},
   "source": [
    "# Solve Challenge 1"
   ]
  },
  {
   "cell_type": "markdown",
   "id": "5fea7ba5-4e48-480f-8836-1ffd228609b7",
   "metadata": {
    "tags": []
   },
   "source": [
    "## Load Data"
   ]
  },
  {
   "cell_type": "code",
   "execution_count": 2,
   "id": "09357307-7209-43d1-8836-2b271fd71528",
   "metadata": {
    "tags": []
   },
   "outputs": [],
   "source": [
    "test_data =\"\"\"467..114..\n",
    "...*......\n",
    "..35..633.\n",
    "......#...\n",
    "617*......\n",
    ".....+.58.\n",
    "..592.....\n",
    "......755.\n",
    "...$.*....\n",
    ".664.598..\n",
    "\"\"\""
   ]
  },
  {
   "cell_type": "code",
   "execution_count": 3,
   "id": "a38b887c-7d7c-4ece-9557-ea65fc950abf",
   "metadata": {
    "tags": []
   },
   "outputs": [],
   "source": [
    "with open('D03ab_input.txt', 'r') as file:\n",
    "    puzzle_input_BOTH = file.read()"
   ]
  },
  {
   "cell_type": "code",
   "execution_count": 4,
   "id": "80c65523-0ca3-4f91-8edf-bc4c820ecc53",
   "metadata": {
    "tags": []
   },
   "outputs": [],
   "source": [
    "def extract_cube_counts(text_file: str) -> list:\n",
    "    \"\"\" Return counts of Red, Green, Blue as a list of lists\n",
    "    \"\"\"\n",
    "    regex_red, regex_green, regex_blue = r'\\d+\\ red', r'\\d+\\ green', r'\\d+\\ blue'\n",
    "    colour_counts = []\n",
    "    for colour in [regex_red, regex_green, regex_blue]:\n",
    "        identified_colour_instances = re.findall(colour, text_file)\n",
    "        colour_counts.append( [int(count.split(' ')[0]) for count in identified_colour_instances] )\n",
    "    return colour_counts"
   ]
  },
  {
   "cell_type": "code",
   "execution_count": 5,
   "id": "3d1bd702-b474-4ade-9ba8-6fef8a114713",
   "metadata": {
    "tags": []
   },
   "outputs": [
    {
     "data": {
      "text/plain": [
       "[[3, 6, 14], [1, 3, 3], []]"
      ]
     },
     "execution_count": 5,
     "metadata": {},
     "output_type": "execute_result"
    }
   ],
   "source": [
    "extract_cube_counts('Game 4: 1 green, 3 red; 3 green, 6 red; 3 green, 14 red')"
   ]
  },
  {
   "cell_type": "code",
   "execution_count": 6,
   "id": "fafdd3f4-ce75-448e-81b2-0dc8e5742593",
   "metadata": {
    "tags": []
   },
   "outputs": [],
   "source": [
    "def determine_possible_games(input_data: str, cube_counts_constraints: list = [12, 13, 14]) -> int:\n",
    "     # Process data into ID-asssociated counts of red, green, blue\n",
    "    processed_games_data = [(int(x[0].split(' ')[-1]), extract_cube_counts(x[-1])) for x in [game.split(': ')  for game in input_data.splitlines()]]\n",
    "    # Check which games are possible\n",
    "    possible_game_indices = []\n",
    "    for game_id, cube_counts in tqdm(processed_games_data):\n",
    "        results_per_colour = [\n",
    "            all([x <= cube_counts_constraints[idx] for x in counts_of_color]) for idx, counts_of_color in enumerate(cube_counts)\n",
    "        ]\n",
    "        if all(results_per_colour):\n",
    "            possible_game_indices.append(game_id)\n",
    "    return sum(possible_game_indices)"
   ]
  },
  {
   "cell_type": "code",
   "execution_count": 7,
   "id": "1dce20fd-8331-4a86-8570-cfd1e02bcd8e",
   "metadata": {
    "tags": []
   },
   "outputs": [
    {
     "data": {
      "application/vnd.jupyter.widget-view+json": {
       "model_id": "bb45ecd8cbab4ac79322cc4a9accabab",
       "version_major": 2,
       "version_minor": 0
      },
      "text/plain": [
       "  0%|          | 0/6 [00:00<?, ?it/s]"
      ]
     },
     "metadata": {},
     "output_type": "display_data"
    },
    {
     "data": {
      "text/plain": [
       "14"
      ]
     },
     "execution_count": 7,
     "metadata": {},
     "output_type": "execute_result"
    }
   ],
   "source": [
    "determine_possible_games(test_data)"
   ]
  },
  {
   "cell_type": "code",
   "execution_count": 8,
   "id": "5c576174-aa00-43e8-b384-5b614fe416c0",
   "metadata": {
    "tags": []
   },
   "outputs": [
    {
     "data": {
      "application/vnd.jupyter.widget-view+json": {
       "model_id": "9b512c430c554c3c8803e77397f99bbc",
       "version_major": 2,
       "version_minor": 0
      },
      "text/plain": [
       "  0%|          | 0/100 [00:00<?, ?it/s]"
      ]
     },
     "metadata": {},
     "output_type": "display_data"
    },
    {
     "name": "stdout",
     "output_type": "stream",
     "text": [
      "CPU times: user 5.91 ms, sys: 1.38 ms, total: 7.29 ms\n",
      "Wall time: 7.04 ms\n"
     ]
    },
    {
     "data": {
      "text/plain": [
       "2505"
      ]
     },
     "execution_count": 8,
     "metadata": {},
     "output_type": "execute_result"
    }
   ],
   "source": [
    "%%time\n",
    "determine_possible_games(puzzle_input_BOTH)"
   ]
  },
  {
   "cell_type": "markdown",
   "id": "ee46fc4d-7348-480e-a8bc-44c8f6718448",
   "metadata": {},
   "source": [
    "# Solve Challenge 2"
   ]
  },
  {
   "cell_type": "markdown",
   "id": "69a9fccb-687b-4df4-8e0d-c21c1c021b8f",
   "metadata": {
    "tags": []
   },
   "source": [
    "## Load Data"
   ]
  },
  {
   "cell_type": "code",
   "execution_count": null,
   "id": "5423c9e6-86be-4dcf-8438-a47e7a119ce1",
   "metadata": {},
   "outputs": [],
   "source": []
  },
  {
   "cell_type": "code",
   "execution_count": null,
   "id": "15d41867-849d-403b-bad2-204baa733c20",
   "metadata": {},
   "outputs": [],
   "source": []
  },
  {
   "cell_type": "code",
   "execution_count": null,
   "id": "4618790d-dfa7-466c-b253-cf3750e4420c",
   "metadata": {},
   "outputs": [],
   "source": []
  },
  {
   "cell_type": "code",
   "execution_count": null,
   "id": "b9b6a78f-4bc6-4061-95b0-687a6e9e73a3",
   "metadata": {},
   "outputs": [],
   "source": []
  }
 ],
 "metadata": {
  "kernelspec": {
   "display_name": "Python 3 (ipykernel)",
   "language": "python",
   "name": "python3"
  },
  "language_info": {
   "codemirror_mode": {
    "name": "ipython",
    "version": 3
   },
   "file_extension": ".py",
   "mimetype": "text/x-python",
   "name": "python",
   "nbconvert_exporter": "python",
   "pygments_lexer": "ipython3",
   "version": "3.11.5"
  }
 },
 "nbformat": 4,
 "nbformat_minor": 5
}
