{
 "cells": [
  {
   "cell_type": "markdown",
   "id": "a12337c5-a18f-4cec-8079-288bb7d68448",
   "metadata": {},
   "source": [
    "# Advent of Code - D02: Cube Conundrum\n",
    "\n",
    "@author: Camillo Moschner"
   ]
  },
  {
   "cell_type": "markdown",
   "id": "0b6316ab-2de6-4184-8b97-79fc0b88be78",
   "metadata": {},
   "source": [
    "# Import Staments"
   ]
  },
  {
   "cell_type": "code",
   "execution_count": null,
   "id": "c05ff3b6-14b5-4814-9bad-c597ddfb8a6b",
   "metadata": {
    "tags": []
   },
   "outputs": [],
   "source": []
  },
  {
   "cell_type": "markdown",
   "id": "53f4904f-2695-40b3-ba49-1738b1c2699c",
   "metadata": {},
   "source": [
    "# Solve Challenge 1"
   ]
  },
  {
   "cell_type": "markdown",
   "id": "5fea7ba5-4e48-480f-8836-1ffd228609b7",
   "metadata": {
    "tags": []
   },
   "source": [
    "## Load Data"
   ]
  },
  {
   "cell_type": "code",
   "execution_count": 1,
   "id": "09357307-7209-43d1-8836-2b271fd71528",
   "metadata": {
    "tags": []
   },
   "outputs": [],
   "source": [
    "test_data =\"\"\"Game 1: 3 blue, 4 red; 1 red, 2 green, 6 blue; 2 green\n",
    "Game 2: 1 blue, 2 green; 3 green, 4 blue, 1 red; 1 green, 1 blue\n",
    "Game 3: 8 green, 6 blue, 20 red; 5 blue, 4 red, 13 green; 5 green, 1 red\n",
    "Game 4: 1 green, 3 red, 6 blue; 3 green, 6 red; 3 green, 15 blue, 14 red\n",
    "Game 5: 6 red, 1 blue, 3 green; 2 blue, 1 red, 2 green\n",
    "\"\"\""
   ]
  },
  {
   "cell_type": "code",
   "execution_count": 2,
   "id": "a38b887c-7d7c-4ece-9557-ea65fc950abf",
   "metadata": {
    "tags": []
   },
   "outputs": [],
   "source": [
    "with open('D02a_input.txt', 'r') as file:\n",
    "    puzzle_input_ONE = file.read()"
   ]
  },
  {
   "cell_type": "code",
   "execution_count": null,
   "id": "80c65523-0ca3-4f91-8edf-bc4c820ecc53",
   "metadata": {
    "tags": []
   },
   "outputs": [],
   "source": []
  },
  {
   "cell_type": "markdown",
   "id": "ee46fc4d-7348-480e-a8bc-44c8f6718448",
   "metadata": {},
   "source": [
    "# Solve Challenge 2"
   ]
  },
  {
   "cell_type": "markdown",
   "id": "69a9fccb-687b-4df4-8e0d-c21c1c021b8f",
   "metadata": {
    "tags": []
   },
   "source": [
    "## Load Data"
   ]
  },
  {
   "cell_type": "code",
   "execution_count": null,
   "id": "136245f3-3e06-4187-b7b6-a80ee07214c7",
   "metadata": {},
   "outputs": [],
   "source": []
  }
 ],
 "metadata": {
  "kernelspec": {
   "display_name": "Python 3 (ipykernel)",
   "language": "python",
   "name": "python3"
  },
  "language_info": {
   "codemirror_mode": {
    "name": "ipython",
    "version": 3
   },
   "file_extension": ".py",
   "mimetype": "text/x-python",
   "name": "python",
   "nbconvert_exporter": "python",
   "pygments_lexer": "ipython3",
   "version": "3.11.5"
  }
 },
 "nbformat": 4,
 "nbformat_minor": 5
}
