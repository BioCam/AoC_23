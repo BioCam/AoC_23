{
 "cells": [
  {
   "cell_type": "markdown",
   "id": "a12337c5-a18f-4cec-8079-288bb7d68448",
   "metadata": {},
   "source": [
    "# Advent of Code - D02: Cube Conundrum\n",
    "\n",
    "@author: Camillo Moschner"
   ]
  },
  {
   "cell_type": "markdown",
   "id": "0b6316ab-2de6-4184-8b97-79fc0b88be78",
   "metadata": {},
   "source": [
    "# Import Staments"
   ]
  },
  {
   "cell_type": "code",
   "execution_count": 1,
   "id": "c05ff3b6-14b5-4814-9bad-c597ddfb8a6b",
   "metadata": {
    "tags": []
   },
   "outputs": [],
   "source": [
    "import re\n",
    "from tqdm.notebook import tqdm"
   ]
  },
  {
   "cell_type": "markdown",
   "id": "53f4904f-2695-40b3-ba49-1738b1c2699c",
   "metadata": {},
   "source": [
    "# Solve Challenge 1"
   ]
  },
  {
   "cell_type": "markdown",
   "id": "5fea7ba5-4e48-480f-8836-1ffd228609b7",
   "metadata": {
    "tags": []
   },
   "source": [
    "## Load Data"
   ]
  },
  {
   "cell_type": "code",
   "execution_count": 2,
   "id": "09357307-7209-43d1-8836-2b271fd71528",
   "metadata": {
    "tags": []
   },
   "outputs": [],
   "source": [
    "test_data =\"\"\"Game 1: 3 blue, 4 red; 1 red, 2 green, 6 blue; 2 green\n",
    "Game 2: 1 blue, 2 green; 3 green, 4 blue, 1 red; 1 green, 1 blue\n",
    "Game 3: 8 green, 6 blue, 20 red; 5 blue, 4 red, 13 green; 5 green, 1 red\n",
    "Game 4: 1 green, 3 red, 6 blue; 3 green, 6 red; 3 green, 15 blue, 14 red\n",
    "Game 5: 6 red, 1 blue, 3 green; 2 blue, 1 red, 2 green\n",
    "Game 6: 1 blue, 3 green; 2 blue, 2 green\n",
    "\"\"\""
   ]
  },
  {
   "cell_type": "code",
   "execution_count": 3,
   "id": "a38b887c-7d7c-4ece-9557-ea65fc950abf",
   "metadata": {
    "tags": []
   },
   "outputs": [],
   "source": [
    "with open('D02ab_input.txt', 'r') as file:\n",
    "    puzzle_input_BOTH = file.read()"
   ]
  },
  {
   "cell_type": "code",
   "execution_count": 4,
   "id": "80c65523-0ca3-4f91-8edf-bc4c820ecc53",
   "metadata": {
    "tags": []
   },
   "outputs": [],
   "source": [
    "def extract_cube_counts(text_file: str) -> list:\n",
    "    \"\"\" Return counts of Red, Green, Blue as a list of lists\n",
    "    \"\"\"\n",
    "    regex_red, regex_green, regex_blue = r'\\d+\\ red', r'\\d+\\ green', r'\\d+\\ blue'\n",
    "    colour_counts = []\n",
    "    for colour in [regex_red, regex_green, regex_blue]:\n",
    "        identified_colour_instances = re.findall(colour, text_file)\n",
    "        colour_counts.append( [int(count.split(' ')[0]) for count in identified_colour_instances] )\n",
    "    return colour_counts"
   ]
  },
  {
   "cell_type": "code",
   "execution_count": 5,
   "id": "3d1bd702-b474-4ade-9ba8-6fef8a114713",
   "metadata": {
    "tags": []
   },
   "outputs": [
    {
     "data": {
      "text/plain": [
       "[[3, 6, 14], [1, 3, 3], []]"
      ]
     },
     "execution_count": 5,
     "metadata": {},
     "output_type": "execute_result"
    }
   ],
   "source": [
    "extract_cube_counts('Game 4: 1 green, 3 red; 3 green, 6 red; 3 green, 14 red')"
   ]
  },
  {
   "cell_type": "code",
   "execution_count": 6,
   "id": "fafdd3f4-ce75-448e-81b2-0dc8e5742593",
   "metadata": {
    "tags": []
   },
   "outputs": [],
   "source": [
    "def determine_possible_games(input_data: str, cube_counts_constraints: list = [12, 13, 14]) -> int:\n",
    "     # Process data into ID-asssociated counts of red, green, blue\n",
    "    processed_games_data = [(int(x[0].split(' ')[-1]), extract_cube_counts(x[-1])) for x in [game.split(': ')  for game in input_data.splitlines()]]\n",
    "    # Check which games are possible\n",
    "    possible_game_indices = []\n",
    "    for game_id, cube_counts in tqdm(processed_games_data):\n",
    "        results_per_colour = [\n",
    "            all([x <= cube_counts_constraints[idx] for x in counts_of_color]) for idx, counts_of_color in enumerate(cube_counts)\n",
    "        ]\n",
    "        if all(results_per_colour):\n",
    "            possible_game_indices.append(game_id)\n",
    "    return sum(possible_game_indices)"
   ]
  },
  {
   "cell_type": "code",
   "execution_count": 7,
   "id": "1dce20fd-8331-4a86-8570-cfd1e02bcd8e",
   "metadata": {
    "tags": []
   },
   "outputs": [
    {
     "data": {
      "application/vnd.jupyter.widget-view+json": {
       "model_id": "6c32014f1ccf49dca1a8dc4a134a3aaf",
       "version_major": 2,
       "version_minor": 0
      },
      "text/plain": [
       "  0%|          | 0/6 [00:00<?, ?it/s]"
      ]
     },
     "metadata": {},
     "output_type": "display_data"
    },
    {
     "data": {
      "text/plain": [
       "14"
      ]
     },
     "execution_count": 7,
     "metadata": {},
     "output_type": "execute_result"
    }
   ],
   "source": [
    "determine_possible_games(test_data)"
   ]
  },
  {
   "cell_type": "code",
   "execution_count": 8,
   "id": "5c576174-aa00-43e8-b384-5b614fe416c0",
   "metadata": {
    "tags": []
   },
   "outputs": [
    {
     "data": {
      "application/vnd.jupyter.widget-view+json": {
       "model_id": "afe7e86efa4f4907a06de8bb6a8a31a7",
       "version_major": 2,
       "version_minor": 0
      },
      "text/plain": [
       "  0%|          | 0/100 [00:00<?, ?it/s]"
      ]
     },
     "metadata": {},
     "output_type": "display_data"
    },
    {
     "name": "stdout",
     "output_type": "stream",
     "text": [
      "CPU times: user 9.47 ms, sys: 0 ns, total: 9.47 ms\n",
      "Wall time: 8.97 ms\n"
     ]
    },
    {
     "data": {
      "text/plain": [
       "2505"
      ]
     },
     "execution_count": 8,
     "metadata": {},
     "output_type": "execute_result"
    }
   ],
   "source": [
    "%%time\n",
    "determine_possible_games(puzzle_input_BOTH)"
   ]
  },
  {
   "cell_type": "markdown",
   "id": "ee46fc4d-7348-480e-a8bc-44c8f6718448",
   "metadata": {},
   "source": [
    "# Solve Challenge 2"
   ]
  },
  {
   "cell_type": "markdown",
   "id": "69a9fccb-687b-4df4-8e0d-c21c1c021b8f",
   "metadata": {
    "tags": []
   },
   "source": [
    "## Load Data"
   ]
  },
  {
   "cell_type": "code",
   "execution_count": 9,
   "id": "136245f3-3e06-4187-b7b6-a80ee07214c7",
   "metadata": {
    "tags": []
   },
   "outputs": [],
   "source": [
    "from functools import reduce\n"
   ]
  },
  {
   "cell_type": "code",
   "execution_count": 10,
   "id": "40a34ff1-24fb-4774-bd33-72238717c3b5",
   "metadata": {
    "tags": []
   },
   "outputs": [],
   "source": [
    "def identify_fewest_number_of_cubes_of_each_colour_required(input_data: str) -> int:\n",
    "     # Process data into ID-asssociated counts of red, green, blue\n",
    "    processed_games_data = [(int(x[0].split(' ')[-1]), extract_cube_counts(x[-1])) for x in [game.split(': ')  for game in input_data.splitlines()]]\n",
    "    # Identify minimal required number of cubes for each game and return their power\n",
    "    min_required_counts_summary = []\n",
    "    for game_id, cube_counts in tqdm(processed_games_data):\n",
    "        min_required_counts_per_colour_per_round_per_game = [max(counts_of_color) if len(counts_of_color) > 0 else 0 for counts_of_color in cube_counts]\n",
    "        min_required_counts_summary.append(min_required_counts_per_colour_per_round_per_game)\n",
    "    return sum([reduce(lambda x, y: x*y, game) for game in min_required_counts_summary])"
   ]
  },
  {
   "cell_type": "code",
   "execution_count": 11,
   "id": "257785c6-6ca2-4a78-abbb-e2ce79b10250",
   "metadata": {
    "tags": []
   },
   "outputs": [
    {
     "data": {
      "application/vnd.jupyter.widget-view+json": {
       "model_id": "af2cae3a958b43dc85b86ceadedcb392",
       "version_major": 2,
       "version_minor": 0
      },
      "text/plain": [
       "  0%|          | 0/6 [00:00<?, ?it/s]"
      ]
     },
     "metadata": {},
     "output_type": "display_data"
    },
    {
     "data": {
      "text/plain": [
       "2286"
      ]
     },
     "execution_count": 11,
     "metadata": {},
     "output_type": "execute_result"
    }
   ],
   "source": [
    "identify_fewest_number_of_cubes_of_each_colour_required(test_data)"
   ]
  },
  {
   "cell_type": "code",
   "execution_count": 13,
   "id": "6d5177b9-96c5-402f-89e1-7832cafe54fd",
   "metadata": {
    "tags": []
   },
   "outputs": [
    {
     "data": {
      "application/vnd.jupyter.widget-view+json": {
       "model_id": "5c84922a40e548718ac692db8a9952ae",
       "version_major": 2,
       "version_minor": 0
      },
      "text/plain": [
       "  0%|          | 0/100 [00:00<?, ?it/s]"
      ]
     },
     "metadata": {},
     "output_type": "display_data"
    },
    {
     "data": {
      "text/plain": [
       "70265"
      ]
     },
     "execution_count": 13,
     "metadata": {},
     "output_type": "execute_result"
    }
   ],
   "source": [
    "identify_fewest_number_of_cubes_of_each_colour_required(puzzle_input_BOTH)"
   ]
  },
  {
   "cell_type": "code",
   "execution_count": null,
   "id": "5423c9e6-86be-4dcf-8438-a47e7a119ce1",
   "metadata": {},
   "outputs": [],
   "source": []
  }
 ],
 "metadata": {
  "kernelspec": {
   "display_name": "Python 3 (ipykernel)",
   "language": "python",
   "name": "python3"
  },
  "language_info": {
   "codemirror_mode": {
    "name": "ipython",
    "version": 3
   },
   "file_extension": ".py",
   "mimetype": "text/x-python",
   "name": "python",
   "nbconvert_exporter": "python",
   "pygments_lexer": "ipython3",
   "version": "3.11.5"
  }
 },
 "nbformat": 4,
 "nbformat_minor": 5
}
