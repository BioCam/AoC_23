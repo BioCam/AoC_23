{
 "cells": [
  {
   "cell_type": "markdown",
   "id": "a12337c5-a18f-4cec-8079-288bb7d68448",
   "metadata": {},
   "source": [
    "# Advent of Code - D01: Trebuchet?!\n",
    "\n",
    "@player: Camillo Moschner"
   ]
  },
  {
   "cell_type": "markdown",
   "id": "0b6316ab-2de6-4184-8b97-79fc0b88be78",
   "metadata": {},
   "source": [
    "# Import Staments"
   ]
  },
  {
   "cell_type": "code",
   "execution_count": null,
   "id": "c05ff3b6-14b5-4814-9bad-c597ddfb8a6b",
   "metadata": {},
   "outputs": [],
   "source": []
  },
  {
   "cell_type": "markdown",
   "id": "74eb8093-df97-4fdf-9532-efeac4017184",
   "metadata": {},
   "source": [
    "# Function Definitions"
   ]
  },
  {
   "cell_type": "code",
   "execution_count": null,
   "id": "7dcf2ef2-216d-42d1-92b1-91c4f0de08ab",
   "metadata": {},
   "outputs": [],
   "source": []
  },
  {
   "cell_type": "markdown",
   "id": "5fea7ba5-4e48-480f-8836-1ffd228609b7",
   "metadata": {},
   "source": [
    "# Load Data"
   ]
  },
  {
   "cell_type": "code",
   "execution_count": null,
   "id": "09357307-7209-43d1-8836-2b271fd71528",
   "metadata": {},
   "outputs": [],
   "source": []
  },
  {
   "cell_type": "markdown",
   "id": "53f4904f-2695-40b3-ba49-1738b1c2699c",
   "metadata": {},
   "source": [
    "# Solve Challenge"
   ]
  },
  {
   "cell_type": "code",
   "execution_count": null,
   "id": "80c65523-0ca3-4f91-8edf-bc4c820ecc53",
   "metadata": {},
   "outputs": [],
   "source": []
  }
 ],
 "metadata": {
  "kernelspec": {
   "display_name": "Python 3 (ipykernel)",
   "language": "python",
   "name": "python3"
  },
  "language_info": {
   "codemirror_mode": {
    "name": "ipython",
    "version": 3
   },
   "file_extension": ".py",
   "mimetype": "text/x-python",
   "name": "python",
   "nbconvert_exporter": "python",
   "pygments_lexer": "ipython3",
   "version": "3.11.5"
  }
 },
 "nbformat": 4,
 "nbformat_minor": 5
}
