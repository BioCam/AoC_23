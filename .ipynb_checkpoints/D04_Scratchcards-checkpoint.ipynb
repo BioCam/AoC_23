{
 "cells": [
  {
   "cell_type": "markdown",
   "id": "a12337c5-a18f-4cec-8079-288bb7d68448",
   "metadata": {},
   "source": [
    "# Advent of Code - D04: Scratchcards\n",
    "\n",
    "@author: Camillo Moschner"
   ]
  },
  {
   "cell_type": "markdown",
   "id": "0b6316ab-2de6-4184-8b97-79fc0b88be78",
   "metadata": {},
   "source": [
    "# Import Staments"
   ]
  },
  {
   "cell_type": "code",
   "execution_count": 1,
   "id": "c05ff3b6-14b5-4814-9bad-c597ddfb8a6b",
   "metadata": {
    "tags": []
   },
   "outputs": [],
   "source": [
    "import re"
   ]
  },
  {
   "cell_type": "markdown",
   "id": "53f4904f-2695-40b3-ba49-1738b1c2699c",
   "metadata": {},
   "source": [
    "# Solve Part 1"
   ]
  },
  {
   "cell_type": "markdown",
   "id": "5fea7ba5-4e48-480f-8836-1ffd228609b7",
   "metadata": {
    "tags": []
   },
   "source": [
    "## Load Data"
   ]
  },
  {
   "cell_type": "code",
   "execution_count": 2,
   "id": "09357307-7209-43d1-8836-2b271fd71528",
   "metadata": {
    "tags": []
   },
   "outputs": [],
   "source": [
    "test_data =\"\"\"Card 1: 41 48 83 86 17 | 83 86  6 31 17  9 48 53\n",
    "Card 2: 13 32 20 16 61 | 61 30 68 82 17 32 24 19\n",
    "Card 3:  1 21 53 59 44 | 69 82 63 72 16 21 14  1\n",
    "Card 4: 41 92 73 84 69 | 59 84 76 51 58  5 54 83\n",
    "Card 5: 87 83 26 28 32 | 88 30 70 12 93 22 82 36\n",
    "Card 6: 31 18 13 56 72 | 74 77 10 23 35 67 36 11\n",
    "\"\"\""
   ]
  },
  {
   "cell_type": "code",
   "execution_count": 3,
   "id": "a38b887c-7d7c-4ece-9557-ea65fc950abf",
   "metadata": {
    "tags": []
   },
   "outputs": [],
   "source": [
    "with open('D04ab_input.txt', 'r') as file:\n",
    "    puzzle_input_BOTH = file.read()"
   ]
  },
  {
   "cell_type": "code",
   "execution_count": 4,
   "id": "80c65523-0ca3-4f91-8edf-bc4c820ecc53",
   "metadata": {
    "tags": []
   },
   "outputs": [],
   "source": [
    "def calculate_scratchcard_points(scratch_card_text_input: str) -> int:\n",
    "    \"\"\"\n",
    "    \"\"\"\n",
    "    data_prepocess = [numbers.split('|') for numbers in [card.split(': ')[-1] for card in scratch_card_text_input.splitlines()]]\n",
    "    points = 0\n",
    "    for card in data_prepocess:\n",
    "        winning_numbers, numbers_owned = set([int(numb) for numb in re.findall(r'\\d+', card[0])]), set([int(numb) for numb in re.findall(r'\\d+', card[-1])])\n",
    "        no_matches = len(winning_numbers & numbers_owned)\n",
    "        if no_matches > 0:\n",
    "            points += 2**(no_matches-1)\n",
    "    return points"
   ]
  },
  {
   "cell_type": "code",
   "execution_count": 5,
   "id": "3d4b3fe7-036f-429e-b90e-c47ab8888955",
   "metadata": {
    "tags": []
   },
   "outputs": [
    {
     "data": {
      "text/plain": [
       "13"
      ]
     },
     "execution_count": 5,
     "metadata": {},
     "output_type": "execute_result"
    }
   ],
   "source": [
    "calculate_scratchcard_points(test_data)"
   ]
  },
  {
   "cell_type": "code",
   "execution_count": 6,
   "id": "bdff97f0-da32-4f16-8fe9-e9ac90e1c5a6",
   "metadata": {
    "tags": []
   },
   "outputs": [
    {
     "data": {
      "text/plain": [
       "32001"
      ]
     },
     "execution_count": 6,
     "metadata": {},
     "output_type": "execute_result"
    }
   ],
   "source": [
    "calculate_scratchcard_points(puzzle_input_BOTH)"
   ]
  },
  {
   "cell_type": "markdown",
   "id": "ee46fc4d-7348-480e-a8bc-44c8f6718448",
   "metadata": {},
   "source": [
    "# Solve Part 2"
   ]
  },
  {
   "cell_type": "markdown",
   "id": "69a9fccb-687b-4df4-8e0d-c21c1c021b8f",
   "metadata": {
    "tags": []
   },
   "source": [
    "## Load Data"
   ]
  },
  {
   "cell_type": "code",
   "execution_count": 7,
   "id": "40a257ce-3eff-46f0-bd79-60ba91b3ad58",
   "metadata": {
    "tags": []
   },
   "outputs": [],
   "source": [
    "from copy import deepcopy"
   ]
  },
  {
   "cell_type": "code",
   "execution_count": 8,
   "id": "2fce1787-c9a3-4cb9-b89b-7bd4babd31d9",
   "metadata": {
    "tags": []
   },
   "outputs": [],
   "source": [
    "test_data =\"\"\"Card 1: 41 48 83 86 17 | 83 86  6 31 17  9 48 53\n",
    "Card 2: 13 32 20 16 61 | 61 30 68 82 17 32 24 19\n",
    "Card 3:  1 21 53 59 44 | 69 82 63 72 16 21 14  1\n",
    "Card 4: 41 92 73 84 69 | 59 84 76 51 58  5 54 83\n",
    "Card 5: 87 83 26 28 32 | 88 30 70 12 93 22 82 36\n",
    "Card 6: 31 18 13 56 72 | 74 77 10 23 35 67 36 11\n",
    "\"\"\""
   ]
  },
  {
   "cell_type": "code",
   "execution_count": 9,
   "id": "bf493fa2-6f6d-475c-a1c8-9f28a23c69b8",
   "metadata": {
    "tags": []
   },
   "outputs": [],
   "source": [
    "import numpy as np"
   ]
  },
  {
   "cell_type": "code",
   "execution_count": 10,
   "id": "f27f9f53-127f-4c7f-a5bd-5f1b3e5e500b",
   "metadata": {
    "tags": []
   },
   "outputs": [],
   "source": [
    "def calculate_match_numbers(scratch_card_text_input: str) -> int:\n",
    "    \"\"\"\n",
    "    \"\"\"\n",
    "    data_prepocess = [numbers.split('|') for numbers in [card.split(': ')[-1] for card in scratch_card_text_input.splitlines()]]\n",
    "    match_count = []\n",
    "    for card in data_prepocess:\n",
    "        winning_numbers, numbers_owned = set([int(numb) for numb in re.findall(r'\\d+', card[0])]), set([int(numb) for numb in re.findall(r'\\d+', card[-1])])\n",
    "        no_matches = len(winning_numbers & numbers_owned)\n",
    "        match_count.append(no_matches)\n",
    "    return match_count"
   ]
  },
  {
   "cell_type": "code",
   "execution_count": 11,
   "id": "7d9de780-b378-4b9a-9525-a125241ded8b",
   "metadata": {
    "tags": []
   },
   "outputs": [],
   "source": [
    "def calculate_recursive_winning_number(input_data_str: str) -> int:\n",
    "    matches_per_game_list = [[x] for x in calculate_match_numbers(input_data_str)]\n",
    "    copy_tracker = np.ones(len(matches_per_game_list))\n",
    "\n",
    "    for idx in range(len(matches_per_game_list)):\n",
    "        matches_no = matches_per_game_list[idx]\n",
    "        # print(idx+1, matches_per_game_list)\n",
    "        # original\n",
    "        for addition in matches_no:\n",
    "            for counter in range(1, matches_no[0]+1):\n",
    "                # print(f\" idx-{idx} -> addcopyto:{idx+counter+1}\")\n",
    "                matches_per_game_list[idx+counter].append(matches_per_game_list[idx+counter][0])\n",
    "                copy_tracker[idx+counter] += 1\n",
    "    return copy_tracker.sum()"
   ]
  },
  {
   "cell_type": "code",
   "execution_count": 12,
   "id": "010b4ee7-afca-4ec6-bbdb-b1934c6649d0",
   "metadata": {
    "tags": []
   },
   "outputs": [
    {
     "data": {
      "text/plain": [
       "30.0"
      ]
     },
     "execution_count": 12,
     "metadata": {},
     "output_type": "execute_result"
    }
   ],
   "source": [
    "calculate_recursive_winning_number(test_data)"
   ]
  },
  {
   "cell_type": "code",
   "execution_count": 13,
   "id": "5a1e552d-815e-4c6d-af1b-0578107ef896",
   "metadata": {
    "tags": []
   },
   "outputs": [
    {
     "name": "stdout",
     "output_type": "stream",
     "text": [
      "CPU times: user 882 ms, sys: 9.66 ms, total: 892 ms\n",
      "Wall time: 966 ms\n"
     ]
    },
    {
     "data": {
      "text/plain": [
       "5037841.0"
      ]
     },
     "execution_count": 13,
     "metadata": {},
     "output_type": "execute_result"
    }
   ],
   "source": [
    "%%time\n",
    "calculate_recursive_winning_number(puzzle_input_BOTH)"
   ]
  },
  {
   "cell_type": "code",
   "execution_count": null,
   "id": "d5e41ca3-c033-4641-84dd-67238a1699a8",
   "metadata": {},
   "outputs": [],
   "source": []
  }
 ],
 "metadata": {
  "kernelspec": {
   "display_name": "Python 3 (ipykernel)",
   "language": "python",
   "name": "python3"
  },
  "language_info": {
   "codemirror_mode": {
    "name": "ipython",
    "version": 3
   },
   "file_extension": ".py",
   "mimetype": "text/x-python",
   "name": "python",
   "nbconvert_exporter": "python",
   "pygments_lexer": "ipython3",
   "version": "3.11.5"
  }
 },
 "nbformat": 4,
 "nbformat_minor": 5
}
