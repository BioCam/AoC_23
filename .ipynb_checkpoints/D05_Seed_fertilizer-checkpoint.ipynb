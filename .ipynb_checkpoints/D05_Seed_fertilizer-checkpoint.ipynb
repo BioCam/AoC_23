{
 "cells": [
  {
   "cell_type": "markdown",
   "id": "a12337c5-a18f-4cec-8079-288bb7d68448",
   "metadata": {},
   "source": [
    "# Advent of Code - D05: If You Give A Seed A Fertilizer\n",
    "\n",
    "@author: Camillo Moschner"
   ]
  },
  {
   "cell_type": "markdown",
   "id": "0b6316ab-2de6-4184-8b97-79fc0b88be78",
   "metadata": {},
   "source": [
    "# Import Staments"
   ]
  },
  {
   "cell_type": "code",
   "execution_count": 1,
   "id": "c05ff3b6-14b5-4814-9bad-c597ddfb8a6b",
   "metadata": {
    "tags": []
   },
   "outputs": [],
   "source": [
    "import re\n",
    "from tqdm.notebook import tqdm"
   ]
  },
  {
   "cell_type": "markdown",
   "id": "53f4904f-2695-40b3-ba49-1738b1c2699c",
   "metadata": {},
   "source": [
    "# Solve Part 1"
   ]
  },
  {
   "cell_type": "markdown",
   "id": "5fea7ba5-4e48-480f-8836-1ffd228609b7",
   "metadata": {
    "tags": []
   },
   "source": [
    "## Load Data"
   ]
  },
  {
   "cell_type": "code",
   "execution_count": 2,
   "id": "09357307-7209-43d1-8836-2b271fd71528",
   "metadata": {
    "tags": []
   },
   "outputs": [],
   "source": [
    "test_data =\"\"\"seeds: 79 14 55 13\n",
    "\n",
    "seed-to-soil map:\n",
    "50 98 2\n",
    "52 50 48\n",
    "\n",
    "soil-to-fertilizer map:\n",
    "0 15 37\n",
    "37 52 2\n",
    "39 0 15\n",
    "\n",
    "fertilizer-to-water map:\n",
    "49 53 8\n",
    "0 11 42\n",
    "42 0 7\n",
    "57 7 4\n",
    "\n",
    "water-to-light map:\n",
    "88 18 7\n",
    "18 25 70\n",
    "\n",
    "light-to-temperature map:\n",
    "45 77 23\n",
    "81 45 19\n",
    "68 64 13\n",
    "\n",
    "temperature-to-humidity map:\n",
    "0 69 1\n",
    "1 0 69\n",
    "\n",
    "humidity-to-location map:\n",
    "60 56 37\n",
    "56 93 4\n",
    "\"\"\""
   ]
  },
  {
   "cell_type": "code",
   "execution_count": 3,
   "id": "a38b887c-7d7c-4ece-9557-ea65fc950abf",
   "metadata": {
    "tags": []
   },
   "outputs": [],
   "source": [
    "with open('D05ab_input.txt', 'r') as file:\n",
    "    puzzle_input_BOTH = file.read()"
   ]
  },
  {
   "cell_type": "code",
   "execution_count": 4,
   "id": "83699466-2447-4c07-bc7a-2e59b563f26d",
   "metadata": {
    "tags": []
   },
   "outputs": [],
   "source": [
    "def map_to_next_category(input_no_list: list, map_line_list: list) -> list:\n",
    "    \"\"\"\n",
    "    \"\"\"\n",
    "    current_dict = {}\n",
    "    for line in [[int(seed_id) for seed_id in re.findall(r'\\d+', line)] for line in map_line_list]:\n",
    "        dest, source, rang = line\n",
    "        source_range = list(range(source, source+rang,1))\n",
    "        dest_range = list(range(dest, dest+rang))\n",
    "        # Generate mapping dictionary\n",
    "        for idx, x in enumerate(source_range):\n",
    "            current_dict[x] = dest_range[idx]\n",
    "    # print(current_dict)\n",
    "    return [current_dict.get(val, val) for val in input_no_list]"
   ]
  },
  {
   "cell_type": "code",
   "execution_count": 5,
   "id": "4d97aa50-6285-402e-a06a-036f78980acf",
   "metadata": {
    "tags": []
   },
   "outputs": [],
   "source": [
    "def lazy_walk(start, range_val):\n",
    "    for x in range(start, start+range_val):\n",
    "        yield x"
   ]
  },
  {
   "cell_type": "code",
   "execution_count": null,
   "id": "c7628014-a562-42ff-9064-1fc28d9bc9b9",
   "metadata": {},
   "outputs": [],
   "source": []
  },
  {
   "cell_type": "raw",
   "id": "f42c34cb-980f-4c81-9201-a52aa8776e97",
   "metadata": {
    "tags": []
   },
   "source": [
    "def map_to_next_category_wo_memory_allocation(input_no_list: list, map_line_list: list) -> list:\n",
    "    \"\"\"\n",
    "    \"\"\"\n",
    "    results = []\n",
    "    for input_no in input_no_list:\n",
    "        result = ''\n",
    "        for line in [[int(seed_id) for seed_id in re.findall(r'\\d+', line)] for line in map_line_list]:\n",
    "            dest, source, rang = line\n",
    "            # print(dest, source, rang)\n",
    "            if all([input_no >= source, input_no < source+rang]):\n",
    "                idx = 0\n",
    "                statement = True\n",
    "                walk = lazy_walk(source, rang)\n",
    "                while statement:\n",
    "                    print(idx)\n",
    "                    for comp in walk: #idx = list(range(source, source+rang,1)).index(input_no)\n",
    "                        if comp == input:\n",
    "                            result = list(range(dest, dest+rang))[idx]\n",
    "                            statement = False\n",
    "                        idx += 1\n",
    "                # print(idx, list(range(dest, dest+rang))[idx])\n",
    "        if type(result) == str:\n",
    "            result = input_no\n",
    "        results.append(result)\n",
    "    return results"
   ]
  },
  {
   "cell_type": "code",
   "execution_count": 6,
   "id": "986dda03-e71e-4e69-9bc5-9debd0ad7a47",
   "metadata": {
    "tags": []
   },
   "outputs": [],
   "source": [
    "from functools import reduce"
   ]
  },
  {
   "cell_type": "code",
   "execution_count": 7,
   "id": "6e02717e-a88b-4b58-80d0-acec8638e25d",
   "metadata": {
    "tags": []
   },
   "outputs": [
    {
     "name": "stdout",
     "output_type": "stream",
     "text": [
      "Help on built-in function reduce in module _functools:\n",
      "\n",
      "reduce(...)\n",
      "    reduce(function, iterable[, initial]) -> value\n",
      "    \n",
      "    Apply a function of two arguments cumulatively to the items of a sequence\n",
      "    or iterable, from left to right, so as to reduce the iterable to a single\n",
      "    value.  For example, reduce(lambda x, y: x+y, [1, 2, 3, 4, 5]) calculates\n",
      "    ((((1+2)+3)+4)+5).  If initial is present, it is placed before the items\n",
      "    of the iterable in the calculation, and serves as a default when the\n",
      "    iterable is empty.\n",
      "\n"
     ]
    }
   ],
   "source": [
    "help(reduce)"
   ]
  },
  {
   "cell_type": "raw",
   "id": "9bb90b15-5d1c-4345-af78-6133ef810939",
   "metadata": {
    "tags": []
   },
   "source": [
    "def optimal_idx_identification(number: int, search_start: int, search_end: int) -> int:\n",
    "    if all([number >= search_start, number < search_end]):\n",
    "        interval = [search_start, search_end]\n",
    "        check = True\n",
    "        halfes_performed = [int((interval[-1]-interval[0]))]\n",
    "        idx_max = int((interval[-1]-interval[0]))\n",
    "        while check:\n",
    "            # print(interval)\n",
    "            halfway_idx = int((interval[-1]-interval[0])/2)\n",
    "            first_half_start, first_half_end = interval[0], interval[0] + halfway_idx\n",
    "            if all([number >= first_half_start, number <= first_half_end]):\n",
    "                # print('hear', first_half_start, first_half_end)\n",
    "                interval[0], interval[-1] = first_half_start, first_half_end\n",
    "                if any([interval[-1] == interval[0], interval[-1]-interval[0] == 1]) :\n",
    "                    # print('jkdfha')\n",
    "                    check = False\n",
    "                    return interval, halfes_performed\n",
    "                halfes_performed.append(-halfway_idx)\n",
    "                # numbers.append(-halfway_idx)\n",
    "            else:\n",
    "                # print('dhfaasasc')\n",
    "                interval = [first_half_end, interval[-1]]\n",
    "                if interval[-1]-interval[0] < 100:\n",
    "                    check = False\n",
    "                halfes_performed.append(halfway_idx)\n",
    "                # numbers.append(halfway_idx)\n",
    "                    \n",
    "        return interval, halfes_performed, reduce(lambda x, y: x+y, halfes_performed)\n",
    "    else:\n",
    "        return None"
   ]
  },
  {
   "cell_type": "raw",
   "id": "820662e4-ae69-45de-ac22-98b40317884e",
   "metadata": {
    "tags": []
   },
   "source": [
    "def map_to_next_category_wo_memory_allocation(input_no_list: list, map_line_list: list) -> list:\n",
    "    \"\"\"\n",
    "    \"\"\"\n",
    "    results = []\n",
    "    for input_no in input_no_list:\n",
    "        result = ''\n",
    "        for line in [[int(seed_id) for seed_id in re.findall(r'\\d+', line)] for line in map_line_list]:\n",
    "            dest, source, rang = line\n",
    "            hit_idx = optimal_idx_identification(input_no, source, source+rang)\n",
    "            if hit_idx == None:\n",
    "                results.append(input_no)\n",
    "                \n",
    "            else:\n",
    "                for idx in hit_idx:\n",
    "                    if \n",
    "            # Qick check whether number in range\n",
    "            if all([input_no >= source, input_no < source+rang]):\n",
    "                # Split range query into halves for decreased memory usage\n",
    "                split_into_halves_range = int(rang/2)\n",
    "                if all([input_no >= source, input_no < source+split_into_halves_range]):\n",
    "                    idx = list(range(source, source+split_into_halves_range)).index(input_no)\n",
    "                    result = list(range(dest, dest+split_into_halves_range))[idx]\n",
    "                    # print(input_no, idx, list(range(source, source+split_into_halves_range)))\n",
    "                else:\n",
    "                    idx = list(range(source+split_into_halves_range, source+rang)).index(input_no)\n",
    "                    result = list(range(dest+split_into_halves_range, dest+rang))[idx]\n",
    "                    # print(input_no, idx, list(range(source, source+split_into_halves_range)))\n",
    "        if type(result) == str:\n",
    "            result = input_no\n",
    "        results.append(result)\n",
    "    return results"
   ]
  },
  {
   "cell_type": "raw",
   "id": "ac06b46d-a7c0-4bd6-9e06-cf9a55bb8a0e",
   "metadata": {
    "tags": []
   },
   "source": [
    "optimal_idx_identification(5, 3, 503569)"
   ]
  },
  {
   "cell_type": "code",
   "execution_count": 8,
   "id": "ba4d37b7-ee2c-420e-894d-9357e096b41a",
   "metadata": {
    "tags": []
   },
   "outputs": [
    {
     "name": "stdout",
     "output_type": "stream",
     "text": [
      "Element 500000 found at index 499999\n"
     ]
    }
   ],
   "source": [
    "def binary_search_for_index(start: int, end: int, target: int) -> int:\n",
    "    left = 0\n",
    "    right = end - start  # Total number of elements assuming step size of 1\n",
    "\n",
    "    while left <= right:\n",
    "        mid = (left + right) // 2\n",
    "        mid_value = start + mid  # Calculate the value at this hypothetical index\n",
    "\n",
    "        if mid_value == target:\n",
    "            return mid  # Target value's index found\n",
    "        elif mid_value < target:\n",
    "            left = mid + 1\n",
    "        else:\n",
    "            right = mid - 1\n",
    "    return -1  # Target not found\n",
    "\n",
    "# Example usage\n",
    "start_element = 1\n",
    "end_element = 1000000  # For example\n",
    "target = 500000\n",
    "\n",
    "index = binary_search_for_index(start_element, end_element, target)\n",
    "\n",
    "if index != -1:\n",
    "    print(f\"Element {target} found at index {index}\")\n",
    "else:\n",
    "    print(f\"Element {target} not found in the list\")\n"
   ]
  },
  {
   "cell_type": "code",
   "execution_count": 9,
   "id": "040be5ea-96c9-4376-9081-0098e891fc81",
   "metadata": {
    "tags": []
   },
   "outputs": [
    {
     "data": {
      "text/plain": [
       "-1"
      ]
     },
     "execution_count": 9,
     "metadata": {},
     "output_type": "execute_result"
    }
   ],
   "source": [
    "binary_search_for_index(0, 11, 53)"
   ]
  },
  {
   "cell_type": "code",
   "execution_count": 25,
   "id": "41589211-e9c5-4f54-97d5-aec8d48e8e71",
   "metadata": {
    "tags": []
   },
   "outputs": [],
   "source": [
    "def map_to_next_category_wo_memory_allocation(input_no_list: list, map_line_list: list) -> list:\n",
    "    \"\"\"\n",
    "    \"\"\"\n",
    "    results = []\n",
    "    for input_no in input_no_list:\n",
    "        # print(input_no)\n",
    "        input_no_results = []\n",
    "        for line in [[int(seed_id) for seed_id in re.findall(r'\\d+', line)] for line in map_line_list]:\n",
    "            dest_start, source_start, rang = line\n",
    "            source_end, dest_end = source_start+rang+1, dest_start+rang+1\n",
    "            # CRUX: identify mapping index across both ranges\n",
    "            cross_category_idx = binary_search_for_index(source_start, source_end, input_no)\n",
    "            # print(f\"{input_no}, source={source_start}->{source_end}, dest={dest_start}->{dest_end}, idx={cross_category_idx}\")\n",
    "            input_no_results.append(cross_category_idx)\n",
    "            if cross_category_idx != -1:\n",
    "                next_cat_val = range(dest_start,dest_end)[cross_category_idx]\n",
    "                break\n",
    "        if all([x==-1 for x in input_no_results]):\n",
    "            results.append(input_no)\n",
    "        else:\n",
    "            results.append(next_cat_val)\n",
    "\n",
    "    return results"
   ]
  },
  {
   "cell_type": "raw",
   "id": "5666fd01-c5f7-42e8-9f63-e29eeca51bc6",
   "metadata": {
    "tags": []
   },
   "source": [
    "ids = [79, 14, 55, 13]\n",
    "map_to_next_category_wo_memory_allocation(ids, ['50 98 2', '52 50 48'])"
   ]
  },
  {
   "cell_type": "raw",
   "id": "d3e81e18-0d8e-4f38-ac69-eff7003e26f1",
   "metadata": {
    "tags": []
   },
   "source": [
    "map_to_next_category_wo_memory_allocation([81, 14, 57, 13], ['0 15 37', '37 52 2', '39 0 15'])"
   ]
  },
  {
   "cell_type": "code",
   "execution_count": 26,
   "id": "7d7c6ec0-5b23-4e07-85b6-27f30e80585f",
   "metadata": {
    "tags": []
   },
   "outputs": [
    {
     "data": {
      "text/plain": [
       "[81, 49, 53, 41]"
      ]
     },
     "execution_count": 26,
     "metadata": {},
     "output_type": "execute_result"
    }
   ],
   "source": [
    "map_to_next_category_wo_memory_allocation( [81, 53, 57, 52], ['49 53 8','0 11 42','42 0 7','57 7 4'])"
   ]
  },
  {
   "cell_type": "code",
   "execution_count": 27,
   "id": "4e11fe34-eed3-40ef-946a-3cbc0ae161ca",
   "metadata": {
    "tags": []
   },
   "outputs": [],
   "source": [
    "def process_information_through_maps(input_str: str) -> int:\n",
    "    # Read data input\n",
    "    number_conversion_list = [int(seed_id) for seed_id in re.findall(r'\\d+', [map_item for map_item in input_str.split('\\n\\n')][0].split(': ')[-1])]\n",
    "    almanac = [[map_item.split(':')[0],map_item.split(':\\n')[1].splitlines()] for map_item in [map_item for map_item in input_str.split('\\n\\n')][1:]]\n",
    "    # Read maps and sequentially convert category to category\n",
    "    print(f\"Starting with seeds {number_conversion_list}\\n\")\n",
    "    for idx, current_map in enumerate(almanac[:]):\n",
    "        print(current_map[0])\n",
    "        \n",
    "        number_conversion_list = map_to_next_category_wo_memory_allocation(number_conversion_list, current_map[-1])\n",
    "        print(f\" {idx} - {current_map[0].split(' ')[0].split('-')[-1]} numbers = {number_conversion_list}\\n\")\n",
    "    return f\"Lowest location number = {min(number_conversion_list)}\""
   ]
  },
  {
   "cell_type": "code",
   "execution_count": 28,
   "id": "eed78733-55df-48c9-aefc-694808683086",
   "metadata": {
    "tags": []
   },
   "outputs": [
    {
     "name": "stdout",
     "output_type": "stream",
     "text": [
      "Starting with seeds [79, 14, 55, 13]\n",
      "\n",
      "seed-to-soil map\n",
      " 0 - soil numbers = [81, 14, 57, 13]\n",
      "\n",
      "soil-to-fertilizer map\n",
      " 1 - fertilizer numbers = [81, 53, 57, 52]\n",
      "\n",
      "fertilizer-to-water map\n",
      " 2 - water numbers = [81, 49, 53, 41]\n",
      "\n",
      "water-to-light map\n",
      " 3 - light numbers = [74, 42, 46, 34]\n",
      "\n",
      "light-to-temperature map\n",
      " 4 - temperature numbers = [78, 42, 82, 34]\n",
      "\n",
      "temperature-to-humidity map\n",
      " 5 - humidity numbers = [78, 43, 82, 35]\n",
      "\n",
      "humidity-to-location map\n",
      " 6 - location numbers = [82, 43, 86, 35]\n",
      "\n",
      "CPU times: user 128 µs, sys: 41 µs, total: 169 µs\n",
      "Wall time: 182 µs\n"
     ]
    },
    {
     "data": {
      "text/plain": [
       "'Lowest location number = 35'"
      ]
     },
     "execution_count": 28,
     "metadata": {},
     "output_type": "execute_result"
    }
   ],
   "source": [
    "%%time \n",
    "process_information_through_maps(test_data)"
   ]
  },
  {
   "cell_type": "code",
   "execution_count": null,
   "id": "4b459517-f9ce-4736-8d7a-d77e62d545e5",
   "metadata": {
    "tags": []
   },
   "outputs": [],
   "source": [
    "%%time \n",
    "process_information_through_maps(puzzle_input_BOTH)"
   ]
  },
  {
   "cell_type": "code",
   "execution_count": null,
   "id": "3ecb45c5-5a63-49f3-8338-0f77225f567d",
   "metadata": {},
   "outputs": [],
   "source": []
  },
  {
   "cell_type": "markdown",
   "id": "ee46fc4d-7348-480e-a8bc-44c8f6718448",
   "metadata": {},
   "source": [
    "# Solve Part 2"
   ]
  },
  {
   "cell_type": "markdown",
   "id": "69a9fccb-687b-4df4-8e0d-c21c1c021b8f",
   "metadata": {
    "tags": []
   },
   "source": [
    "## Load Data"
   ]
  },
  {
   "cell_type": "code",
   "execution_count": 7,
   "id": "40a257ce-3eff-46f0-bd79-60ba91b3ad58",
   "metadata": {
    "tags": []
   },
   "outputs": [],
   "source": [
    "from copy import deepcopy"
   ]
  },
  {
   "cell_type": "code",
   "execution_count": 8,
   "id": "2fce1787-c9a3-4cb9-b89b-7bd4babd31d9",
   "metadata": {
    "tags": []
   },
   "outputs": [],
   "source": [
    "test_data =\"\"\"Card 1: 41 48 83 86 17 | 83 86  6 31 17  9 48 53\n",
    "Card 2: 13 32 20 16 61 | 61 30 68 82 17 32 24 19\n",
    "Card 3:  1 21 53 59 44 | 69 82 63 72 16 21 14  1\n",
    "Card 4: 41 92 73 84 69 | 59 84 76 51 58  5 54 83\n",
    "Card 5: 87 83 26 28 32 | 88 30 70 12 93 22 82 36\n",
    "Card 6: 31 18 13 56 72 | 74 77 10 23 35 67 36 11\n",
    "\"\"\""
   ]
  },
  {
   "cell_type": "code",
   "execution_count": 9,
   "id": "bf493fa2-6f6d-475c-a1c8-9f28a23c69b8",
   "metadata": {
    "tags": []
   },
   "outputs": [],
   "source": [
    "import numpy as np"
   ]
  },
  {
   "cell_type": "code",
   "execution_count": 10,
   "id": "f27f9f53-127f-4c7f-a5bd-5f1b3e5e500b",
   "metadata": {
    "tags": []
   },
   "outputs": [],
   "source": [
    "def calculate_match_numbers(scratch_card_text_input: str) -> int:\n",
    "    \"\"\"\n",
    "    \"\"\"\n",
    "    data_prepocess = [numbers.split('|') for numbers in [card.split(': ')[-1] for card in scratch_card_text_input.splitlines()]]\n",
    "    match_count = []\n",
    "    for card in data_prepocess:\n",
    "        winning_numbers, numbers_owned = set([int(numb) for numb in re.findall(r'\\d+', card[0])]), set([int(numb) for numb in re.findall(r'\\d+', card[-1])])\n",
    "        no_matches = len(winning_numbers & numbers_owned)\n",
    "        match_count.append(no_matches)\n",
    "    return match_count"
   ]
  },
  {
   "cell_type": "code",
   "execution_count": 11,
   "id": "7d9de780-b378-4b9a-9525-a125241ded8b",
   "metadata": {
    "tags": []
   },
   "outputs": [],
   "source": [
    "def calculate_recursive_winning_number(input_data_str: str) -> int:\n",
    "    matches_per_game_list = [[x] for x in calculate_match_numbers(input_data_str)]\n",
    "    copy_tracker = np.ones(len(matches_per_game_list))\n",
    "\n",
    "    for idx in range(len(matches_per_game_list)):\n",
    "        matches_no = matches_per_game_list[idx]\n",
    "        # print(idx+1, matches_per_game_list)\n",
    "        # original\n",
    "        for addition in matches_no:\n",
    "            for counter in range(1, matches_no[0]+1):\n",
    "                # print(f\" idx-{idx} -> addcopyto:{idx+counter+1}\")\n",
    "                matches_per_game_list[idx+counter].append(matches_per_game_list[idx+counter][0])\n",
    "                copy_tracker[idx+counter] += 1\n",
    "    return copy_tracker.sum()"
   ]
  },
  {
   "cell_type": "code",
   "execution_count": 12,
   "id": "010b4ee7-afca-4ec6-bbdb-b1934c6649d0",
   "metadata": {
    "tags": []
   },
   "outputs": [],
   "source": [
    "calculate_recursive_winning_number(test_data)"
   ]
  },
  {
   "cell_type": "code",
   "execution_count": 13,
   "id": "5a1e552d-815e-4c6d-af1b-0578107ef896",
   "metadata": {
    "tags": []
   },
   "outputs": [],
   "source": [
    "%%time\n",
    "calculate_recursive_winning_number(puzzle_input_BOTH)"
   ]
  },
  {
   "cell_type": "code",
   "execution_count": null,
   "id": "d5e41ca3-c033-4641-84dd-67238a1699a8",
   "metadata": {},
   "outputs": [],
   "source": []
  }
 ],
 "metadata": {
  "kernelspec": {
   "display_name": "Python 3 (ipykernel)",
   "language": "python",
   "name": "python3"
  },
  "language_info": {
   "codemirror_mode": {
    "name": "ipython",
    "version": 3
   },
   "file_extension": ".py",
   "mimetype": "text/x-python",
   "name": "python",
   "nbconvert_exporter": "python",
   "pygments_lexer": "ipython3",
   "version": "3.11.5"
  }
 },
 "nbformat": 4,
 "nbformat_minor": 5
}
