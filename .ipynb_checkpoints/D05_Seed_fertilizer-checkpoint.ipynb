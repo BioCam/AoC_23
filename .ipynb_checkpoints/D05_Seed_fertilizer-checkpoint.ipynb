{
 "cells": [
  {
   "cell_type": "markdown",
   "id": "a12337c5-a18f-4cec-8079-288bb7d68448",
   "metadata": {},
   "source": [
    "# Advent of Code - D05: If You Give A Seed A Fertilizer\n",
    "\n",
    "@author: Camillo Moschner"
   ]
  },
  {
   "cell_type": "markdown",
   "id": "0b6316ab-2de6-4184-8b97-79fc0b88be78",
   "metadata": {},
   "source": [
    "# Import Staments"
   ]
  },
  {
   "cell_type": "code",
   "execution_count": 1,
   "id": "c05ff3b6-14b5-4814-9bad-c597ddfb8a6b",
   "metadata": {
    "tags": []
   },
   "outputs": [],
   "source": [
    "import re\n",
    "from tqdm.notebook import tqdm"
   ]
  },
  {
   "cell_type": "markdown",
   "id": "53f4904f-2695-40b3-ba49-1738b1c2699c",
   "metadata": {},
   "source": [
    "# Solve Part 1"
   ]
  },
  {
   "cell_type": "markdown",
   "id": "5fea7ba5-4e48-480f-8836-1ffd228609b7",
   "metadata": {
    "tags": []
   },
   "source": [
    "## Load Data"
   ]
  },
  {
   "cell_type": "code",
   "execution_count": 2,
   "id": "09357307-7209-43d1-8836-2b271fd71528",
   "metadata": {
    "tags": []
   },
   "outputs": [],
   "source": [
    "test_data =\"\"\"seeds: 79 14 55 13\n",
    "\n",
    "seed-to-soil map:\n",
    "50 98 2\n",
    "52 50 48\n",
    "\n",
    "soil-to-fertilizer map:\n",
    "0 15 37\n",
    "37 52 2\n",
    "39 0 15\n",
    "\n",
    "fertilizer-to-water map:\n",
    "49 53 8\n",
    "0 11 42\n",
    "42 0 7\n",
    "57 7 4\n",
    "\n",
    "water-to-light map:\n",
    "88 18 7\n",
    "18 25 70\n",
    "\n",
    "light-to-temperature map:\n",
    "45 77 23\n",
    "81 45 19\n",
    "68 64 13\n",
    "\n",
    "temperature-to-humidity map:\n",
    "0 69 1\n",
    "1 0 69\n",
    "\n",
    "humidity-to-location map:\n",
    "60 56 37\n",
    "56 93 4\n",
    "\"\"\""
   ]
  },
  {
   "cell_type": "code",
   "execution_count": 3,
   "id": "a38b887c-7d7c-4ece-9557-ea65fc950abf",
   "metadata": {
    "tags": []
   },
   "outputs": [],
   "source": [
    "with open('D05ab_input.txt', 'r') as file:\n",
    "    puzzle_input_BOTH = file.read()"
   ]
  },
  {
   "cell_type": "code",
   "execution_count": 4,
   "id": "83699466-2447-4c07-bc7a-2e59b563f26d",
   "metadata": {
    "tags": []
   },
   "outputs": [],
   "source": [
    "def map_to_next_category(input_no_list: list, map_line_list: list) -> list:\n",
    "    \"\"\" Using a hashmap -> time complexity = Linear Time - O(n) ==> doesn't scale well, large input ranges will crash normal computers\n",
    "    \"\"\"\n",
    "    current_dict = {}\n",
    "    for line in [[int(seed_id) for seed_id in re.findall(r'\\d+', line)] for line in map_line_list]:\n",
    "        dest, source, rang = line\n",
    "        source_range = list(range(source, source+rang,1))\n",
    "        dest_range = list(range(dest, dest+rang))\n",
    "        # Generate mapping dictionary\n",
    "        for idx, x in enumerate(source_range):\n",
    "            current_dict[x] = dest_range[idx]\n",
    "    # print(current_dict)\n",
    "    return [current_dict.get(val, val) for val in input_no_list]"
   ]
  },
  {
   "cell_type": "markdown",
   "id": "c5fd6379-b2b1-4c37-b9df-b3bd9871858d",
   "metadata": {
    "tags": []
   },
   "source": [
    "## Binary search approach\n",
    "Linear Time - O(log n)"
   ]
  },
  {
   "cell_type": "code",
   "execution_count": 5,
   "id": "ba4d37b7-ee2c-420e-894d-9357e096b41a",
   "metadata": {
    "tags": []
   },
   "outputs": [],
   "source": [
    "def binary_search_for_index(start: int, end: int, target: int) -> int:\n",
    "    left = 0\n",
    "    right = end - start  # Total number of elements assuming step size of 1\n",
    "\n",
    "    while left <= right:\n",
    "        mid = (left + right) // 2\n",
    "        mid_value = start + mid  # Calculate the value at this hypothetical index\n",
    "\n",
    "        if mid_value == target:\n",
    "            return mid  # Target value's index found\n",
    "        elif mid_value < target:\n",
    "            left = mid + 1\n",
    "        else:\n",
    "            right = mid - 1\n",
    "    return -1  # Target not found"
   ]
  },
  {
   "cell_type": "code",
   "execution_count": 6,
   "id": "040be5ea-96c9-4376-9081-0098e891fc81",
   "metadata": {
    "tags": []
   },
   "outputs": [
    {
     "data": {
      "text/plain": [
       "-1"
      ]
     },
     "execution_count": 6,
     "metadata": {},
     "output_type": "execute_result"
    }
   ],
   "source": [
    "binary_search_for_index(0, 11, 53)"
   ]
  },
  {
   "cell_type": "code",
   "execution_count": 7,
   "id": "41589211-e9c5-4f54-97d5-aec8d48e8e71",
   "metadata": {
    "tags": []
   },
   "outputs": [],
   "source": [
    "def map_to_next_category_wo_memory_allocation(input_no_list: list, map_line_list: list) -> list:\n",
    "    \"\"\"\n",
    "    \"\"\"\n",
    "    results = []\n",
    "    for input_no in input_no_list:\n",
    "        # print(input_no)\n",
    "        input_no_results = []\n",
    "        for line in [[int(seed_id) for seed_id in re.findall(r'\\d+', line)] for line in map_line_list]:\n",
    "            dest_start, source_start, rang = line\n",
    "            source_end, dest_end = source_start+rang+1, dest_start+rang+1\n",
    "            # CRUX: identify mapping index across both ranges\n",
    "            cross_category_idx = binary_search_for_index(source_start, source_end, input_no)\n",
    "            # print(f\"{input_no}, source={source_start}->{source_end}, dest={dest_start}->{dest_end}, idx={cross_category_idx}\")\n",
    "            input_no_results.append(cross_category_idx)\n",
    "            if cross_category_idx != -1:\n",
    "                next_cat_val = range(dest_start,dest_end)[cross_category_idx]\n",
    "                break\n",
    "        if all([x==-1 for x in input_no_results]):\n",
    "            results.append(input_no)\n",
    "        else:\n",
    "            results.append(next_cat_val)\n",
    "\n",
    "    return results"
   ]
  },
  {
   "cell_type": "code",
   "execution_count": 8,
   "id": "7d7c6ec0-5b23-4e07-85b6-27f30e80585f",
   "metadata": {
    "tags": []
   },
   "outputs": [
    {
     "data": {
      "text/plain": [
       "[81, 49, 53, 41]"
      ]
     },
     "execution_count": 8,
     "metadata": {},
     "output_type": "execute_result"
    }
   ],
   "source": [
    "map_to_next_category_wo_memory_allocation( [81, 53, 57, 52], ['49 53 8','0 11 42','42 0 7','57 7 4'])"
   ]
  },
  {
   "cell_type": "code",
   "execution_count": 9,
   "id": "4e11fe34-eed3-40ef-946a-3cbc0ae161ca",
   "metadata": {
    "tags": []
   },
   "outputs": [],
   "source": [
    "def process_information_through_maps(input_str: str) -> int:\n",
    "    # Read data input\n",
    "    number_conversion_list = [int(seed_id) for seed_id in re.findall(r'\\d+', [map_item for map_item in input_str.split('\\n\\n')][0].split(': ')[-1])]\n",
    "    almanac = [[map_item.split(':')[0],map_item.split(':\\n')[1].splitlines()] for map_item in [map_item for map_item in input_str.split('\\n\\n')][1:]]\n",
    "    # Read maps and sequentially convert category to category\n",
    "    print(f\"Starting with seeds {number_conversion_list}\\n\")\n",
    "    for idx, current_map in enumerate(almanac[:]):\n",
    "        print(current_map[0])\n",
    "        \n",
    "        number_conversion_list = map_to_next_category_wo_memory_allocation(number_conversion_list, current_map[-1])\n",
    "        # print(f\" {idx} - {current_map[0].split(' ')[0].split('-')[-1]} numbers = {number_conversion_list}\\n\")\n",
    "    return f\"Lowest location number = {min(number_conversion_list)}\""
   ]
  },
  {
   "cell_type": "code",
   "execution_count": 10,
   "id": "eed78733-55df-48c9-aefc-694808683086",
   "metadata": {
    "tags": []
   },
   "outputs": [
    {
     "name": "stdout",
     "output_type": "stream",
     "text": [
      "Starting with seeds [79, 14, 55, 13]\n",
      "\n",
      "seed-to-soil map\n",
      "soil-to-fertilizer map\n",
      "fertilizer-to-water map\n",
      "water-to-light map\n",
      "light-to-temperature map\n",
      "temperature-to-humidity map\n",
      "humidity-to-location map\n",
      "CPU times: user 503 µs, sys: 98 µs, total: 601 µs\n",
      "Wall time: 577 µs\n"
     ]
    },
    {
     "data": {
      "text/plain": [
       "'Lowest location number = 35'"
      ]
     },
     "execution_count": 10,
     "metadata": {},
     "output_type": "execute_result"
    }
   ],
   "source": [
    "%%time \n",
    "process_information_through_maps(test_data)"
   ]
  },
  {
   "cell_type": "code",
   "execution_count": 11,
   "id": "4b459517-f9ce-4736-8d7a-d77e62d545e5",
   "metadata": {
    "tags": []
   },
   "outputs": [
    {
     "name": "stdout",
     "output_type": "stream",
     "text": [
      "Starting with seeds [202517468, 131640971, 1553776977, 241828580, 1435322022, 100369067, 2019100043, 153706556, 460203450, 84630899, 3766866638, 114261107, 1809826083, 153144153, 2797169753, 177517156, 2494032210, 235157184, 856311572, 542740109]\n",
      "\n",
      "seed-to-soil map\n",
      "soil-to-fertilizer map\n",
      "fertilizer-to-water map\n",
      "water-to-light map\n",
      "light-to-temperature map\n",
      "temperature-to-humidity map\n",
      "humidity-to-location map\n",
      "CPU times: user 23.2 ms, sys: 0 ns, total: 23.2 ms\n",
      "Wall time: 24.7 ms\n"
     ]
    },
    {
     "data": {
      "text/plain": [
       "'Lowest location number = 318728750'"
      ]
     },
     "execution_count": 11,
     "metadata": {},
     "output_type": "execute_result"
    }
   ],
   "source": [
    "%%time \n",
    "process_information_through_maps(puzzle_input_BOTH)"
   ]
  },
  {
   "cell_type": "code",
   "execution_count": null,
   "id": "3ecb45c5-5a63-49f3-8338-0f77225f567d",
   "metadata": {},
   "outputs": [],
   "source": []
  },
  {
   "cell_type": "markdown",
   "id": "ee46fc4d-7348-480e-a8bc-44c8f6718448",
   "metadata": {},
   "source": [
    "# Solve Part 2"
   ]
  },
  {
   "cell_type": "markdown",
   "id": "69a9fccb-687b-4df4-8e0d-c21c1c021b8f",
   "metadata": {
    "tags": []
   },
   "source": [
    "## Load Data"
   ]
  },
  {
   "cell_type": "code",
   "execution_count": 12,
   "id": "fe4ff862-0ba4-4cc9-a1e8-e417a708bd8f",
   "metadata": {
    "tags": []
   },
   "outputs": [],
   "source": [
    "from itertools import chain"
   ]
  },
  {
   "cell_type": "code",
   "execution_count": 13,
   "id": "722af7f9-c3ab-44fd-922b-3343c33ba4b7",
   "metadata": {
    "tags": []
   },
   "outputs": [],
   "source": [
    "def divide_list_into_chunks(list_l, chunk_size):\n",
    "    for i in range(0, len(list_l), chunk_size): \n",
    "        yield list_l[i:i + chunk_size]"
   ]
  },
  {
   "cell_type": "code",
   "execution_count": 14,
   "id": "9d362246-5941-4d39-bf46-22803699f135",
   "metadata": {
    "tags": []
   },
   "outputs": [],
   "source": [
    "def map_to_next_category_wo_memory_allocation(input_no_list: list, map_line_list: list) -> list:\n",
    "    \"\"\"\n",
    "    \"\"\"\n",
    "    results = []\n",
    "    for input_no in input_no_list:\n",
    "        # print(input_no)\n",
    "        input_no_results = []\n",
    "        for line in [[int(seed_id) for seed_id in re.findall(r'\\d+', line)] for line in map_line_list]:\n",
    "            dest_start, source_start, rang = line\n",
    "            source_end, dest_end = source_start+rang, dest_start+rang+1\n",
    "            # CRUX: identify mapping index across both ranges\n",
    "            cross_category_idx = binary_search_for_index(source_start, source_end, input_no)\n",
    "            # if input_no == 62:\n",
    "            #     print(f\"{input_no}, source={source_start}->{source_end}, dest={dest_start}->{dest_end}, idx={cross_category_idx}\")\n",
    "            input_no_results.append(cross_category_idx)\n",
    "            if cross_category_idx != -1:\n",
    "                next_cat_val = range(dest_start,dest_end)[cross_category_idx]\n",
    "                break\n",
    "        if all([x==-1 for x in input_no_results]):\n",
    "            results.append(input_no)\n",
    "        else:\n",
    "            results.append(next_cat_val)\n",
    "\n",
    "    return results"
   ]
  },
  {
   "cell_type": "code",
   "execution_count": 15,
   "id": "aa2df538-9794-45c7-8a65-6242aae74d3b",
   "metadata": {},
   "outputs": [],
   "source": [
    "def map_single_seed_to_next_category_wo_memory_allocation(input_no: list, map_line_list: list) -> int:\n",
    "    \"\"\"\n",
    "    \"\"\"\n",
    "    input_no_results = []\n",
    "    for line in [[int(seed_id) for seed_id in re.findall(r'\\d+', line)] for line in map_line_list]:\n",
    "        dest_start, source_start, rang = line\n",
    "        source_end, dest_end = source_start+rang, dest_start+rang+1\n",
    "        # CRUX: identify mapping index across both ranges\n",
    "        cross_category_idx = binary_search_for_index(source_start, source_end, input_no)\n",
    "        # if input_no == 62:\n",
    "        #     print(f\"{input_no}, source={source_start}->{source_end}, dest={dest_start}->{dest_end}, idx={cross_category_idx}\")\n",
    "        input_no_results.append(cross_category_idx)\n",
    "        if cross_category_idx != -1:\n",
    "            next_cat_val = range(dest_start,dest_end)[cross_category_idx]\n",
    "            break\n",
    "    if all([x==-1 for x in input_no_results]):\n",
    "        return input_no\n",
    "    else:\n",
    "        return next_cat_val"
   ]
  },
  {
   "cell_type": "code",
   "execution_count": 16,
   "id": "ae19e8e1-eb30-4d6f-ab3e-73c2558db733",
   "metadata": {
    "tags": []
   },
   "outputs": [],
   "source": [
    "from joblib import Parallel, delayed\n",
    "import multiprocessing"
   ]
  },
  {
   "cell_type": "code",
   "execution_count": 17,
   "id": "e30a6bc1-4643-40ee-8742-a43a7ff8c6e0",
   "metadata": {
    "tags": []
   },
   "outputs": [],
   "source": [
    "\n",
    "# Define the function to be applied to each element\n",
    "def process_single_feed(feed_no: int, almanac_l) -> int:\n",
    "    # print(f\"single_input_no = {single_input_no}\")\n",
    "    start_no = [feed_no]\n",
    "    # Search for lowest locations - i.e. part 1\n",
    "    for idx, current_map_l in enumerate(almanac_l[:]):\n",
    "        # print(current_map[0])\n",
    "        start_no.append(map_single_seed_to_next_category_wo_memory_allocation(\n",
    "            start_no[-1], current_map_l[-1]\n",
    "        ))\n",
    "    return start_no[-1]  # Example: squaring the element"
   ]
  },
  {
   "cell_type": "code",
   "execution_count": 18,
   "id": "c0d07373-61eb-4710-8bb4-8129b4d6d8bd",
   "metadata": {
    "tags": []
   },
   "outputs": [
    {
     "data": {
      "text/plain": [
       "20"
      ]
     },
     "execution_count": 18,
     "metadata": {},
     "output_type": "execute_result"
    }
   ],
   "source": [
    "num_cores = multiprocessing.cpu_count()\n",
    "num_cores"
   ]
  },
  {
   "cell_type": "code",
   "execution_count": 19,
   "id": "4084065f-c154-45a6-8080-257a3ccead71",
   "metadata": {
    "tags": []
   },
   "outputs": [
    {
     "data": {
      "application/vnd.jupyter.widget-view+json": {
       "model_id": "32d628e7d4494c2a98a26c51ea20e303",
       "version_major": 2,
       "version_minor": 0
      },
      "text/plain": [
       "  0%|          | 0/10 [00:00<?, ?it/s]"
      ]
     },
     "metadata": {},
     "output_type": "display_data"
    },
    {
     "data": {
      "application/vnd.jupyter.widget-view+json": {
       "model_id": "07b421d0856e4a92af7a39aa10b5638f",
       "version_major": 2,
       "version_minor": 0
      },
      "text/plain": [
       "  0%|          | 0/131640971 [00:00<?, ?it/s]"
      ]
     },
     "metadata": {},
     "output_type": "display_data"
    },
    {
     "ename": "KeyboardInterrupt",
     "evalue": "",
     "output_type": "error",
     "traceback": [
      "\u001b[0;31m---------------------------------------------------------------------------\u001b[0m",
      "\u001b[0;31mKeyboardInterrupt\u001b[0m                         Traceback (most recent call last)",
      "Cell \u001b[0;32mIn[19], line 10\u001b[0m\n\u001b[1;32m      8\u001b[0m     end_x \u001b[38;5;241m=\u001b[39m start_x\u001b[38;5;241m+\u001b[39mrange_x\n\u001b[1;32m      9\u001b[0m     \u001b[38;5;66;03m# print(start_x, range_x)\u001b[39;00m\n\u001b[0;32m---> 10\u001b[0m     results \u001b[38;5;241m=\u001b[39m \u001b[43mParallel\u001b[49m\u001b[43m(\u001b[49m\u001b[43mn_jobs\u001b[49m\u001b[38;5;241;43m=\u001b[39;49m\u001b[43mnum_cores\u001b[49m\u001b[43m)\u001b[49m\u001b[43m(\u001b[49m\n\u001b[1;32m     11\u001b[0m \u001b[43m        \u001b[49m\u001b[43mdelayed\u001b[49m\u001b[43m(\u001b[49m\u001b[43mprocess_single_feed\u001b[49m\u001b[43m)\u001b[49m\u001b[43m(\u001b[49m\u001b[43melement\u001b[49m\u001b[43m,\u001b[49m\u001b[43m \u001b[49m\u001b[43malmanac\u001b[49m\u001b[43m)\u001b[49m\u001b[43m \u001b[49m\u001b[38;5;28;43;01mfor\u001b[39;49;00m\u001b[43m \u001b[49m\u001b[43melement\u001b[49m\u001b[43m \u001b[49m\u001b[38;5;129;43;01min\u001b[39;49;00m\u001b[43m \u001b[49m\u001b[43mtqdm\u001b[49m\u001b[43m(\u001b[49m\u001b[38;5;28;43mrange\u001b[39;49m\u001b[43m(\u001b[49m\u001b[43mstart_x\u001b[49m\u001b[43m,\u001b[49m\u001b[43m \u001b[49m\u001b[43mend_x\u001b[49m\u001b[43m)\u001b[49m\u001b[43m)\u001b[49m\n\u001b[1;32m     12\u001b[0m \u001b[43m    \u001b[49m\u001b[43m)\u001b[49m\n\u001b[1;32m     13\u001b[0m \u001b[38;5;66;03m#     for single_input_no in tqdm(range(start_x, end_x)):\u001b[39;00m\n\u001b[1;32m     14\u001b[0m \u001b[38;5;66;03m#         # print(f\"single_input_no = {single_input_no}\")\u001b[39;00m\n\u001b[1;32m     15\u001b[0m \u001b[38;5;66;03m#         start_no = [single_input_no]\u001b[39;00m\n\u001b[0;32m   (...)\u001b[0m\n\u001b[1;32m     20\u001b[0m \u001b[38;5;66;03m#                 start_no[-1], current_map[-1]\u001b[39;00m\n\u001b[1;32m     21\u001b[0m \u001b[38;5;66;03m#             ))\u001b[39;00m\n\u001b[1;32m     22\u001b[0m     total_lowest_locations\u001b[38;5;241m.\u001b[39mextend(results)\n",
      "File \u001b[0;32m~/miniconda3/envs/compbio/lib/python3.11/site-packages/joblib/parallel.py:1952\u001b[0m, in \u001b[0;36mParallel.__call__\u001b[0;34m(self, iterable)\u001b[0m\n\u001b[1;32m   1946\u001b[0m \u001b[38;5;66;03m# The first item from the output is blank, but it makes the interpreter\u001b[39;00m\n\u001b[1;32m   1947\u001b[0m \u001b[38;5;66;03m# progress until it enters the Try/Except block of the generator and\u001b[39;00m\n\u001b[1;32m   1948\u001b[0m \u001b[38;5;66;03m# reach the first `yield` statement. This starts the aynchronous\u001b[39;00m\n\u001b[1;32m   1949\u001b[0m \u001b[38;5;66;03m# dispatch of the tasks to the workers.\u001b[39;00m\n\u001b[1;32m   1950\u001b[0m \u001b[38;5;28mnext\u001b[39m(output)\n\u001b[0;32m-> 1952\u001b[0m \u001b[38;5;28;01mreturn\u001b[39;00m output \u001b[38;5;28;01mif\u001b[39;00m \u001b[38;5;28mself\u001b[39m\u001b[38;5;241m.\u001b[39mreturn_generator \u001b[38;5;28;01melse\u001b[39;00m \u001b[38;5;28;43mlist\u001b[39;49m\u001b[43m(\u001b[49m\u001b[43moutput\u001b[49m\u001b[43m)\u001b[49m\n",
      "File \u001b[0;32m~/miniconda3/envs/compbio/lib/python3.11/site-packages/joblib/parallel.py:1595\u001b[0m, in \u001b[0;36mParallel._get_outputs\u001b[0;34m(self, iterator, pre_dispatch)\u001b[0m\n\u001b[1;32m   1592\u001b[0m     \u001b[38;5;28;01myield\u001b[39;00m\n\u001b[1;32m   1594\u001b[0m     \u001b[38;5;28;01mwith\u001b[39;00m \u001b[38;5;28mself\u001b[39m\u001b[38;5;241m.\u001b[39m_backend\u001b[38;5;241m.\u001b[39mretrieval_context():\n\u001b[0;32m-> 1595\u001b[0m         \u001b[38;5;28;01myield from\u001b[39;00m \u001b[38;5;28mself\u001b[39m\u001b[38;5;241m.\u001b[39m_retrieve()\n\u001b[1;32m   1597\u001b[0m \u001b[38;5;28;01mexcept\u001b[39;00m \u001b[38;5;167;01mGeneratorExit\u001b[39;00m:\n\u001b[1;32m   1598\u001b[0m     \u001b[38;5;66;03m# The generator has been garbage collected before being fully\u001b[39;00m\n\u001b[1;32m   1599\u001b[0m     \u001b[38;5;66;03m# consumed. This aborts the remaining tasks if possible and warn\u001b[39;00m\n\u001b[1;32m   1600\u001b[0m     \u001b[38;5;66;03m# the user if necessary.\u001b[39;00m\n\u001b[1;32m   1601\u001b[0m     \u001b[38;5;28mself\u001b[39m\u001b[38;5;241m.\u001b[39m_exception \u001b[38;5;241m=\u001b[39m \u001b[38;5;28;01mTrue\u001b[39;00m\n",
      "File \u001b[0;32m~/miniconda3/envs/compbio/lib/python3.11/site-packages/joblib/parallel.py:1707\u001b[0m, in \u001b[0;36mParallel._retrieve\u001b[0;34m(self)\u001b[0m\n\u001b[1;32m   1702\u001b[0m \u001b[38;5;66;03m# If the next job is not ready for retrieval yet, we just wait for\u001b[39;00m\n\u001b[1;32m   1703\u001b[0m \u001b[38;5;66;03m# async callbacks to progress.\u001b[39;00m\n\u001b[1;32m   1704\u001b[0m \u001b[38;5;28;01mif\u001b[39;00m ((\u001b[38;5;28mlen\u001b[39m(\u001b[38;5;28mself\u001b[39m\u001b[38;5;241m.\u001b[39m_jobs) \u001b[38;5;241m==\u001b[39m \u001b[38;5;241m0\u001b[39m) \u001b[38;5;129;01mor\u001b[39;00m\n\u001b[1;32m   1705\u001b[0m     (\u001b[38;5;28mself\u001b[39m\u001b[38;5;241m.\u001b[39m_jobs[\u001b[38;5;241m0\u001b[39m]\u001b[38;5;241m.\u001b[39mget_status(\n\u001b[1;32m   1706\u001b[0m         timeout\u001b[38;5;241m=\u001b[39m\u001b[38;5;28mself\u001b[39m\u001b[38;5;241m.\u001b[39mtimeout) \u001b[38;5;241m==\u001b[39m TASK_PENDING)):\n\u001b[0;32m-> 1707\u001b[0m     time\u001b[38;5;241m.\u001b[39msleep(\u001b[38;5;241m0.01\u001b[39m)\n\u001b[1;32m   1708\u001b[0m     \u001b[38;5;28;01mcontinue\u001b[39;00m\n\u001b[1;32m   1710\u001b[0m \u001b[38;5;66;03m# We need to be careful: the job list can be filling up as\u001b[39;00m\n\u001b[1;32m   1711\u001b[0m \u001b[38;5;66;03m# we empty it and Python list are not thread-safe by\u001b[39;00m\n\u001b[1;32m   1712\u001b[0m \u001b[38;5;66;03m# default hence the use of the lock\u001b[39;00m\n",
      "\u001b[0;31mKeyboardInterrupt\u001b[0m: "
     ]
    }
   ],
   "source": [
    "investigate_dataset = puzzle_input_BOTH#puzzle_input_BOTH\n",
    "number_conversion_list = [int(seed_id) for seed_id in re.findall(r'\\d+', [map_item for map_item in investigate_dataset.split('\\n\\n')][0].split(': ')[-1])]\n",
    "almanac = [[map_item.split(':')[0],map_item.split(':\\n')[1].splitlines()] for map_item in [map_item for map_item in investigate_dataset.split('\\n\\n')][1:]]\n",
    "\n",
    "# Chunk inputs and save lowest locations from each chunk\n",
    "total_lowest_locations = []\n",
    "for start_x, range_x in tqdm(list(divide_list_into_chunks(number_conversion_list, 2))):\n",
    "    end_x = start_x+range_x\n",
    "    # print(start_x, range_x)\n",
    "    results = Parallel(n_jobs=num_cores)(\n",
    "        delayed(process_single_feed)(element, almanac) for element in tqdm(range(start_x, end_x))\n",
    "    )\n",
    "#     for single_input_no in tqdm(range(start_x, end_x)):\n",
    "#         # print(f\"single_input_no = {single_input_no}\")\n",
    "#         start_no = [single_input_no]\n",
    "#         # Search for lowest locations - i.e. part 1\n",
    "#         for idx, current_map in enumerate(almanac[:]):\n",
    "#             # print(current_map[0])\n",
    "#             start_no.append(map_single_seed_to_next_category_wo_memory_allocation(\n",
    "#                 start_no[-1], current_map[-1]\n",
    "#             ))\n",
    "    total_lowest_locations.extend(results)\n",
    "        # print(start_no)\n",
    "min(total_lowest_locations)"
   ]
  },
  {
   "cell_type": "code",
   "execution_count": 19,
   "id": "4a44802b-94ad-4455-89c7-eb6529325d79",
   "metadata": {
    "tags": []
   },
   "outputs": [
    {
     "data": {
      "application/vnd.jupyter.widget-view+json": {
       "model_id": "7545d26af6a749c98ec1f697081eb3cd",
       "version_major": 2,
       "version_minor": 0
      },
      "text/plain": [
       "  0%|          | 0/10 [00:00<?, ?it/s]"
      ]
     },
     "metadata": {},
     "output_type": "display_data"
    },
    {
     "data": {
      "application/vnd.jupyter.widget-view+json": {
       "model_id": "f9c5c42939ee4cf493b4261e8f55e6e3",
       "version_major": 2,
       "version_minor": 0
      },
      "text/plain": [
       "  0%|          | 0/131640971 [00:00<?, ?it/s]"
      ]
     },
     "metadata": {},
     "output_type": "display_data"
    },
    {
     "ename": "KeyboardInterrupt",
     "evalue": "",
     "output_type": "error",
     "traceback": [
      "\u001b[0;31m---------------------------------------------------------------------------\u001b[0m",
      "\u001b[0;31mKeyboardInterrupt\u001b[0m                         Traceback (most recent call last)",
      "Cell \u001b[0;32mIn[19], line 16\u001b[0m\n\u001b[1;32m     13\u001b[0m \u001b[38;5;66;03m# Search for lowest locations - i.e. part 1\u001b[39;00m\n\u001b[1;32m     14\u001b[0m \u001b[38;5;28;01mfor\u001b[39;00m idx, current_map \u001b[38;5;129;01min\u001b[39;00m \u001b[38;5;28menumerate\u001b[39m(almanac[:]):\n\u001b[1;32m     15\u001b[0m     \u001b[38;5;66;03m# print(current_map[0])\u001b[39;00m\n\u001b[0;32m---> 16\u001b[0m     start_no\u001b[38;5;241m.\u001b[39mappend(\u001b[43mmap_single_seed_to_next_category_wo_memory_allocation\u001b[49m\u001b[43m(\u001b[49m\n\u001b[1;32m     17\u001b[0m \u001b[43m        \u001b[49m\u001b[43mstart_no\u001b[49m\u001b[43m[\u001b[49m\u001b[38;5;241;43m-\u001b[39;49m\u001b[38;5;241;43m1\u001b[39;49m\u001b[43m]\u001b[49m\u001b[43m,\u001b[49m\u001b[43m \u001b[49m\u001b[43mcurrent_map\u001b[49m\u001b[43m[\u001b[49m\u001b[38;5;241;43m-\u001b[39;49m\u001b[38;5;241;43m1\u001b[39;49m\u001b[43m]\u001b[49m\n\u001b[1;32m     18\u001b[0m \u001b[43m    \u001b[49m\u001b[43m)\u001b[49m)\n\u001b[1;32m     19\u001b[0m total_lowest_locations\u001b[38;5;241m.\u001b[39mappend(start_no[\u001b[38;5;241m-\u001b[39m\u001b[38;5;241m1\u001b[39m])\n\u001b[1;32m     20\u001b[0m \u001b[38;5;66;03m# print(start_no)\u001b[39;00m\n",
      "Cell \u001b[0;32mIn[15], line 9\u001b[0m, in \u001b[0;36mmap_single_seed_to_next_category_wo_memory_allocation\u001b[0;34m(input_no, map_line_list)\u001b[0m\n\u001b[1;32m      7\u001b[0m source_end, dest_end \u001b[38;5;241m=\u001b[39m source_start\u001b[38;5;241m+\u001b[39mrang, dest_start\u001b[38;5;241m+\u001b[39mrang\u001b[38;5;241m+\u001b[39m\u001b[38;5;241m1\u001b[39m\n\u001b[1;32m      8\u001b[0m \u001b[38;5;66;03m# CRUX: identify mapping index across both ranges\u001b[39;00m\n\u001b[0;32m----> 9\u001b[0m cross_category_idx \u001b[38;5;241m=\u001b[39m \u001b[43mbinary_search_for_index\u001b[49m\u001b[43m(\u001b[49m\u001b[43msource_start\u001b[49m\u001b[43m,\u001b[49m\u001b[43m \u001b[49m\u001b[43msource_end\u001b[49m\u001b[43m,\u001b[49m\u001b[43m \u001b[49m\u001b[43minput_no\u001b[49m\u001b[43m)\u001b[49m\n\u001b[1;32m     10\u001b[0m \u001b[38;5;66;03m# if input_no == 62:\u001b[39;00m\n\u001b[1;32m     11\u001b[0m \u001b[38;5;66;03m#     print(f\"{input_no}, source={source_start}->{source_end}, dest={dest_start}->{dest_end}, idx={cross_category_idx}\")\u001b[39;00m\n\u001b[1;32m     12\u001b[0m input_no_results\u001b[38;5;241m.\u001b[39mappend(cross_category_idx)\n",
      "Cell \u001b[0;32mIn[5], line 1\u001b[0m, in \u001b[0;36mbinary_search_for_index\u001b[0;34m(start, end, target)\u001b[0m\n\u001b[0;32m----> 1\u001b[0m \u001b[38;5;28;01mdef\u001b[39;00m \u001b[38;5;21mbinary_search_for_index\u001b[39m(start: \u001b[38;5;28mint\u001b[39m, end: \u001b[38;5;28mint\u001b[39m, target: \u001b[38;5;28mint\u001b[39m) \u001b[38;5;241m-\u001b[39m\u001b[38;5;241m>\u001b[39m \u001b[38;5;28mint\u001b[39m:\n\u001b[1;32m      2\u001b[0m     left \u001b[38;5;241m=\u001b[39m \u001b[38;5;241m0\u001b[39m\n\u001b[1;32m      3\u001b[0m     right \u001b[38;5;241m=\u001b[39m end \u001b[38;5;241m-\u001b[39m start  \u001b[38;5;66;03m# Total number of elements assuming step size of 1\u001b[39;00m\n",
      "\u001b[0;31mKeyboardInterrupt\u001b[0m: "
     ]
    }
   ],
   "source": [
    "investigate_dataset = puzzle_input_BOTH\n",
    "number_conversion_list = [int(seed_id) for seed_id in re.findall(r'\\d+', [map_item for map_item in investigate_dataset.split('\\n\\n')][0].split(': ')[-1])]\n",
    "almanac = [[map_item.split(':')[0],map_item.split(':\\n')[1].splitlines()] for map_item in [map_item for map_item in investigate_dataset.split('\\n\\n')][1:]]\n",
    "\n",
    "# Chunk inputs and save lowest locations from each chunk\n",
    "total_lowest_locations = []\n",
    "for start_x, range_x in tqdm(list(divide_list_into_chunks(number_conversion_list, 2))):\n",
    "    end_x = start_x+range_x\n",
    "    # print(start_x, range_x)\n",
    "    for single_input_no in tqdm(range(start_x, end_x)):\n",
    "        # print(f\"single_input_no = {single_input_no}\")\n",
    "        start_no = [single_input_no]\n",
    "        # Search for lowest locations - i.e. part 1\n",
    "        for idx, current_map in enumerate(almanac[:]):\n",
    "            # print(current_map[0])\n",
    "            start_no.append(map_single_seed_to_next_category_wo_memory_allocation(\n",
    "                start_no[-1], current_map[-1]\n",
    "            ))\n",
    "        total_lowest_locations.append(start_no[-1])\n",
    "        # print(start_no)\n",
    "min(total_lowest_locations)"
   ]
  },
  {
   "cell_type": "code",
   "execution_count": 16,
   "id": "40a257ce-3eff-46f0-bd79-60ba91b3ad58",
   "metadata": {
    "tags": []
   },
   "outputs": [],
   "source": [
    "def process_information_through_maps_w_ranges_of_seeds(input_str: str) -> int:\n",
    "    # Read data input\n",
    "    number_conversion_list = [int(seed_id) for seed_id in re.findall(r'\\d+', [map_item for map_item in input_str.split('\\n\\n')][0].split(': ')[-1])]\n",
    "    # number_conversion_list = list(chain(*[list(range(x[0], x[0]+x[1])) for x in divide_list_into_chunks(number_conversion_list, 2)]))\n",
    "    almanac = [[map_item.split(':')[0],map_item.split(':\\n')[1].splitlines()] for map_item in [map_item for map_item in input_str.split('\\n\\n')][1:]]\n",
    "    # Chunk inputs and save lowest locations from each chunk\n",
    "    total_lowest_locations = []\n",
    "    for start_x, range_x in tqdm(list(divide_list_into_chunks(number_conversion_list, 2))):\n",
    "        end_x = start_x+range_x+1\n",
    "        current_list = list(range(start_x, end_x))\n",
    "        # Search for lowest locations - i.e. part 1\n",
    "        for idx, current_map in enumerate(almanac[:]):\n",
    "            # print(current_map[0])\n",
    "            current_list = map_to_next_category_wo_memory_allocation(current_list, current_map[-1])\n",
    "        total_lowest_locations.append(current_list)\n",
    "            # print(f\" {idx} - {current_map[0].split(' ')[0].split('-')[-1]} numbers = {number_conversion_list}\\n\")\n",
    "    return f\"Lowest location number = {min(list(chain(*total_lowest_locations)))}\""
   ]
  },
  {
   "cell_type": "code",
   "execution_count": 17,
   "id": "2fce1787-c9a3-4cb9-b89b-7bd4babd31d9",
   "metadata": {
    "tags": []
   },
   "outputs": [
    {
     "data": {
      "application/vnd.jupyter.widget-view+json": {
       "model_id": "116b8fbcc19d4ad0b12e75422265d19b",
       "version_major": 2,
       "version_minor": 0
      },
      "text/plain": [
       "  0%|          | 0/2 [00:00<?, ?it/s]"
      ]
     },
     "metadata": {},
     "output_type": "display_data"
    },
    {
     "name": "stdout",
     "output_type": "stream",
     "text": [
      "CPU times: user 12.4 ms, sys: 556 µs, total: 13 ms\n",
      "Wall time: 13.1 ms\n"
     ]
    },
    {
     "data": {
      "text/plain": [
       "'Lowest location number = 46'"
      ]
     },
     "execution_count": 17,
     "metadata": {},
     "output_type": "execute_result"
    }
   ],
   "source": [
    "%%time \n",
    "process_information_through_maps_w_ranges_of_seeds(test_data)"
   ]
  },
  {
   "cell_type": "code",
   "execution_count": null,
   "id": "d5e41ca3-c033-4641-84dd-67238a1699a8",
   "metadata": {
    "tags": []
   },
   "outputs": [
    {
     "data": {
      "application/vnd.jupyter.widget-view+json": {
       "model_id": "e398f4979c184aa4ac2df4ae62f3ddd9",
       "version_major": 2,
       "version_minor": 0
      },
      "text/plain": [
       "  0%|          | 0/10 [00:00<?, ?it/s]"
      ]
     },
     "metadata": {},
     "output_type": "display_data"
    }
   ],
   "source": [
    "%%time \n",
    "process_information_through_maps_w_ranges_of_seeds(puzzle_input_BOTH)"
   ]
  },
  {
   "cell_type": "code",
   "execution_count": null,
   "id": "272a0fdb-75be-4180-86ab-362a7bd4f0a6",
   "metadata": {},
   "outputs": [],
   "source": []
  }
 ],
 "metadata": {
  "kernelspec": {
   "display_name": "Python 3 (ipykernel)",
   "language": "python",
   "name": "python3"
  },
  "language_info": {
   "codemirror_mode": {
    "name": "ipython",
    "version": 3
   },
   "file_extension": ".py",
   "mimetype": "text/x-python",
   "name": "python",
   "nbconvert_exporter": "python",
   "pygments_lexer": "ipython3",
   "version": "3.11.5"
  }
 },
 "nbformat": 4,
 "nbformat_minor": 5
}
